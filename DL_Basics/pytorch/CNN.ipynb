{
  "nbformat": 4,
  "nbformat_minor": 0,
  "metadata": {
    "colab": {
      "provenance": [],
      "gpuType": "T4"
    },
    "kernelspec": {
      "name": "python3",
      "display_name": "Python 3"
    },
    "language_info": {
      "name": "python"
    },
    "accelerator": "GPU"
  },
  "cells": [
    {
      "cell_type": "code",
      "execution_count": 1,
      "metadata": {
        "colab": {
          "base_uri": "https://localhost:8080/"
        },
        "id": "iR2q5EueFeXK",
        "outputId": "20d2bb43-2af9-47f7-c1da-b53a5e0d1644"
      },
      "outputs": [
        {
          "output_type": "stream",
          "name": "stdout",
          "text": [
            "2.1.0+cu118\n"
          ]
        }
      ],
      "source": [
        "import torch\n",
        "import torch.nn as nn\n",
        "import torch.optim as optim\n",
        "import torch.nn.init as init\n",
        "\n",
        "import torchvision.datasets as dset\n",
        "import torchvision.transforms as transforms\n",
        "from torch.utils.data import DataLoader\n",
        "\n",
        "import numpy as np\n",
        "import matplotlib.pyplot as plt\n",
        "\n",
        "print(torch.__version__)"
      ]
    },
    {
      "cell_type": "markdown",
      "source": [
        "## 1. 주요 파라미터 지정"
      ],
      "metadata": {
        "id": "EmmEyPpk9nkA"
      }
    },
    {
      "cell_type": "code",
      "source": [
        "# 주요 학습 파라미터 지정 - batchsize, learningrate, epoch\n",
        "batch_size = 256\n",
        "learning_rate = 0.02\n",
        "num_epoch = 10"
      ],
      "metadata": {
        "id": "nQCH6iqXGMHQ"
      },
      "execution_count": 2,
      "outputs": []
    },
    {
      "cell_type": "markdown",
      "source": [
        "## 2. 데이터 준비"
      ],
      "metadata": {
        "id": "_gKAkfKvufUx"
      }
    },
    {
      "cell_type": "code",
      "source": [
        "# Mnist train, test 데이터 디렉토리에 배치\n",
        "mnist_train = dset.MNIST(root=\"../\", train=True, transform=transforms.ToTensor(), target_transform=None, download=True)\n",
        "mnist_test = dset.MNIST(root=\"../\", train=True, transform=transforms.ToTensor(), target_transform=None, download=True)"
      ],
      "metadata": {
        "id": "9eBQYzTmGOl_",
        "colab": {
          "base_uri": "https://localhost:8080/"
        },
        "outputId": "79483597-2fcf-41a1-d18f-5738876b9e8d"
      },
      "execution_count": 3,
      "outputs": [
        {
          "output_type": "stream",
          "name": "stdout",
          "text": [
            "Downloading http://yann.lecun.com/exdb/mnist/train-images-idx3-ubyte.gz\n",
            "Downloading http://yann.lecun.com/exdb/mnist/train-images-idx3-ubyte.gz to ../MNIST/raw/train-images-idx3-ubyte.gz\n"
          ]
        },
        {
          "output_type": "stream",
          "name": "stderr",
          "text": [
            "100%|██████████| 9912422/9912422 [00:00<00:00, 166697584.86it/s]"
          ]
        },
        {
          "output_type": "stream",
          "name": "stdout",
          "text": [
            "Extracting ../MNIST/raw/train-images-idx3-ubyte.gz to ../MNIST/raw\n"
          ]
        },
        {
          "output_type": "stream",
          "name": "stderr",
          "text": [
            "\n"
          ]
        },
        {
          "output_type": "stream",
          "name": "stdout",
          "text": [
            "\n",
            "Downloading http://yann.lecun.com/exdb/mnist/train-labels-idx1-ubyte.gz\n",
            "Downloading http://yann.lecun.com/exdb/mnist/train-labels-idx1-ubyte.gz to ../MNIST/raw/train-labels-idx1-ubyte.gz\n"
          ]
        },
        {
          "output_type": "stream",
          "name": "stderr",
          "text": [
            "100%|██████████| 28881/28881 [00:00<00:00, 10674629.35it/s]\n"
          ]
        },
        {
          "output_type": "stream",
          "name": "stdout",
          "text": [
            "Extracting ../MNIST/raw/train-labels-idx1-ubyte.gz to ../MNIST/raw\n",
            "\n",
            "Downloading http://yann.lecun.com/exdb/mnist/t10k-images-idx3-ubyte.gz\n",
            "Downloading http://yann.lecun.com/exdb/mnist/t10k-images-idx3-ubyte.gz to ../MNIST/raw/t10k-images-idx3-ubyte.gz\n"
          ]
        },
        {
          "output_type": "stream",
          "name": "stderr",
          "text": [
            "100%|██████████| 1648877/1648877 [00:00<00:00, 37250504.40it/s]"
          ]
        },
        {
          "output_type": "stream",
          "name": "stdout",
          "text": [
            "Extracting ../MNIST/raw/t10k-images-idx3-ubyte.gz to ../MNIST/raw\n"
          ]
        },
        {
          "output_type": "stream",
          "name": "stderr",
          "text": [
            "\n"
          ]
        },
        {
          "output_type": "stream",
          "name": "stdout",
          "text": [
            "\n",
            "Downloading http://yann.lecun.com/exdb/mnist/t10k-labels-idx1-ubyte.gz\n",
            "Downloading http://yann.lecun.com/exdb/mnist/t10k-labels-idx1-ubyte.gz to ../MNIST/raw/t10k-labels-idx1-ubyte.gz\n"
          ]
        },
        {
          "output_type": "stream",
          "name": "stderr",
          "text": [
            "100%|██████████| 4542/4542 [00:00<00:00, 22733327.89it/s]\n"
          ]
        },
        {
          "output_type": "stream",
          "name": "stdout",
          "text": [
            "Extracting ../MNIST/raw/t10k-labels-idx1-ubyte.gz to ../MNIST/raw\n",
            "\n"
          ]
        }
      ]
    },
    {
      "cell_type": "code",
      "source": [
        "# DataLoader로 train, test 데이터 준비\n",
        "train_loader = DataLoader(mnist_train, batch_size=batch_size, shuffle=True, num_workers=2, drop_last=True)\n",
        "test_loader = DataLoader(mnist_test,batch_size=batch_size, shuffle=True, num_workers=2, drop_last=True)"
      ],
      "metadata": {
        "id": "jVGOO2fFHBVX"
      },
      "execution_count": 4,
      "outputs": []
    },
    {
      "cell_type": "markdown",
      "source": [
        "## 3. 모델 정의"
      ],
      "metadata": {
        "id": "f_wQLsqQupHn"
      }
    },
    {
      "cell_type": "code",
      "source": [
        "class CNN(nn.Module):\n",
        "    def __init__(self):\n",
        "        super(CNN, self).__init__()\n",
        "\n",
        "\n",
        "        self.conv1 = nn.Sequential(\n",
        "            nn.Conv2d(in_channels=1, out_channels=16, kernel_size=3, padding=1),\n",
        "            nn.ReLU(),\n",
        "            nn.MaxPool2d(kernel_size=2, stride=2)\n",
        "        )\n",
        "\n",
        "        self.conv2 = nn.Sequential(\n",
        "            nn.Conv2d(in_channels=16, out_channels=32, kernel_size=3, padding=1),\n",
        "            nn.ReLU(),\n",
        "            nn.MaxPool2d(kernel_size=2, stride=2)\n",
        "        )\n",
        "\n",
        "        self.fc_layer = nn.Sequential(\n",
        "            nn.Linear(32 * 7 * 7, 256),\n",
        "            nn.ReLU(),\n",
        "            nn.Dropout(0.8),\n",
        "            nn.Linear(256, 256),\n",
        "            nn.ReLU(),\n",
        "            nn.Dropout(0.8),\n",
        "            nn.Linear(256, 10)  # 출력 노드 수 10으로 설정\n",
        "        )\n",
        "\n",
        "    def forward(self, x):\n",
        "        out = self.conv1(x)\n",
        "        out = self.conv2(out)\n",
        "        out = out.view(out.size(0), -1)  # Flatten the output for the fully connected layer\n",
        "        out = self.fc_layer(out)\n",
        "        return out\n"
      ],
      "metadata": {
        "id": "Bk8u1M31vzAd"
      },
      "execution_count": 5,
      "outputs": []
    },
    {
      "cell_type": "code",
      "source": [
        "device = torch.device(\"cuda:0\" if torch.cuda.is_available() else \"cpu\")\n",
        "print(device)\n",
        "\n",
        "model = CNN().to(device)\n",
        "\n",
        "# loss function - Cross Entropy\n",
        "loss_func = nn.CrossEntropyLoss()\n",
        "# Optimizer1 - Stochastic Gradient Descent\n",
        "optimizer_sgd = torch.optim.SGD(model.parameters(), lr=learning_rate)\n"
      ],
      "metadata": {
        "colab": {
          "base_uri": "https://localhost:8080/"
        },
        "id": "MsKmB154ITOg",
        "outputId": "1836e6d9-6462-460a-d47d-63db63108b96"
      },
      "execution_count": 6,
      "outputs": [
        {
          "output_type": "stream",
          "name": "stdout",
          "text": [
            "cuda:0\n"
          ]
        }
      ]
    },
    {
      "cell_type": "markdown",
      "source": [
        "## 4-1. 모델 학습 진행"
      ],
      "metadata": {
        "id": "0DHCTJnq26bZ"
      }
    },
    {
      "cell_type": "code",
      "source": [
        "# 모델 학습 진행\n",
        "loss_arr = []\n",
        "for i in range(num_epoch):\n",
        "  for j, [image, label] in enumerate(train_loader):\n",
        "    x = image.to(device)\n",
        "    y_ = label.to(device)\n",
        "\n",
        "    optimizer_sgd.zero_grad()\n",
        "    output = model.forward(x)\n",
        "    loss = loss_func(output, y_)\n",
        "    loss.backward()\n",
        "    optimizer_sgd.step()\n",
        "\n",
        "    if j % 1000 == 0:\n",
        "      print(loss)\n",
        "      loss_arr.append(loss.cpu().detach().numpy())\n"
      ],
      "metadata": {
        "colab": {
          "base_uri": "https://localhost:8080/"
        },
        "id": "TAeCsWqEIb8A",
        "outputId": "0f6b024b-b115-40c0-f483-6c20f54b173a"
      },
      "execution_count": 7,
      "outputs": [
        {
          "output_type": "stream",
          "name": "stdout",
          "text": [
            "tensor(2.2973, device='cuda:0', grad_fn=<NllLossBackward0>)\n",
            "tensor(2.2563, device='cuda:0', grad_fn=<NllLossBackward0>)\n",
            "tensor(1.8124, device='cuda:0', grad_fn=<NllLossBackward0>)\n",
            "tensor(1.2818, device='cuda:0', grad_fn=<NllLossBackward0>)\n",
            "tensor(0.9142, device='cuda:0', grad_fn=<NllLossBackward0>)\n",
            "tensor(0.7726, device='cuda:0', grad_fn=<NllLossBackward0>)\n",
            "tensor(0.6426, device='cuda:0', grad_fn=<NllLossBackward0>)\n",
            "tensor(0.6742, device='cuda:0', grad_fn=<NllLossBackward0>)\n",
            "tensor(0.5353, device='cuda:0', grad_fn=<NllLossBackward0>)\n",
            "tensor(0.4451, device='cuda:0', grad_fn=<NllLossBackward0>)\n"
          ]
        }
      ]
    },
    {
      "cell_type": "markdown",
      "source": [
        "## 5-1. 모델 평가"
      ],
      "metadata": {
        "id": "it7lo3ry3Apj"
      }
    },
    {
      "cell_type": "code",
      "source": [
        "# loss function 시각화\n",
        "plt.plot(loss_arr)\n",
        "plt.show()"
      ],
      "metadata": {
        "colab": {
          "base_uri": "https://localhost:8080/",
          "height": 430
        },
        "id": "mLxs39pgJRz7",
        "outputId": "8d63e5b2-1177-498d-8c10-f14c252dd274"
      },
      "execution_count": 8,
      "outputs": [
        {
          "output_type": "display_data",
          "data": {
            "text/plain": [
              "<Figure size 640x480 with 1 Axes>"
            ],
            "image/png": "[encoded data removed]"
          },
          "metadata": {}
        }
      ]
    },
    {
      "cell_type": "code",
      "source": [
        "# Test Data로 model 예측 - accuracy 확인\n",
        "correct, total = 0 , 0\n",
        "\n",
        "with torch.no_grad():\n",
        "  for image, label in test_loader:\n",
        "\n",
        "    x = image.to(device)\n",
        "    y_ = label.to(device)\n",
        "\n",
        "    output = model.forward(x)\n",
        "\n",
        "    _,output_index = torch.max(output,1)\n",
        "\n",
        "    total += label.size(0)\n",
        "\n",
        "    correct += (output_index == y_).sum().float()\n",
        "\n",
        "  print(\"Accuracy of Test Data : {}%\".format(100*correct/total))"
      ],
      "metadata": {
        "colab": {
          "base_uri": "https://localhost:8080/"
        },
        "id": "A6fb-SYNJ3U4",
        "outputId": "57bdcf18-5b64-4587-e461-550ecc078a70"
      },
      "execution_count": 9,
      "outputs": [
        {
          "output_type": "stream",
          "name": "stdout",
          "text": [
            "Accuracy of Test Data : 87.02424621582031%\n"
          ]
        }
      ]
    },
    {
      "cell_type": "markdown",
      "source": [
        "## 4-2. 모델 학습 진행 - Adam Optimizer"
      ],
      "metadata": {
        "id": "uCHB6rGy3IT6"
      }
    },
    {
      "cell_type": "code",
      "source": [
        "device = torch.device(\"cuda:0\" if torch.cuda.is_available() else \"cpu\")\n",
        "print(device)\n",
        "\n",
        "model = CNN().to(device)\n",
        "\n",
        "# loss function - Cross Entropy\n",
        "loss_func = nn.CrossEntropyLoss()\n",
        "\n",
        "# Optimizer2 - Adam\n",
        "optimizer_adam = torch.optim.Adam(model.parameters(), lr=0.002)\n"
      ],
      "metadata": {
        "id": "jlrfhzN4KYlq",
        "colab": {
          "base_uri": "https://localhost:8080/"
        },
        "outputId": "adc24cee-bbe8-4825-c05e-be49257becb4"
      },
      "execution_count": 14,
      "outputs": [
        {
          "output_type": "stream",
          "name": "stdout",
          "text": [
            "cuda:0\n"
          ]
        }
      ]
    },
    {
      "cell_type": "code",
      "source": [
        "# 모델 학습\n",
        "loss_arr2 = []\n",
        "for i in range(20):\n",
        "  for j, [image, label] in enumerate(train_loader):\n",
        "    x = image.to(device)\n",
        "    y_ = label.to(device)\n",
        "\n",
        "    optimizer_adam.zero_grad()\n",
        "    output1 = model.forward(x)\n",
        "    loss = loss_func(output1, y_)\n",
        "    loss.backward()\n",
        "    optimizer_adam.step()\n",
        "\n",
        "    if j % 1000 == 0:\n",
        "      print(loss)\n",
        "      loss_arr2.append(loss.cpu().detach().numpy())"
      ],
      "metadata": {
        "colab": {
          "base_uri": "https://localhost:8080/"
        },
        "id": "Vw3VfflC1Xgh",
        "outputId": "83095212-9b07-4510-d595-aa370e508e6b"
      },
      "execution_count": 15,
      "outputs": [
        {
          "output_type": "stream",
          "name": "stdout",
          "text": [
            "tensor(2.2985, device='cuda:0', grad_fn=<NllLossBackward0>)\n",
            "tensor(0.4665, device='cuda:0', grad_fn=<NllLossBackward0>)\n",
            "tensor(0.3423, device='cuda:0', grad_fn=<NllLossBackward0>)\n",
            "tensor(0.2536, device='cuda:0', grad_fn=<NllLossBackward0>)\n",
            "tensor(0.2197, device='cuda:0', grad_fn=<NllLossBackward0>)\n",
            "tensor(0.2288, device='cuda:0', grad_fn=<NllLossBackward0>)\n",
            "tensor(0.1361, device='cuda:0', grad_fn=<NllLossBackward0>)\n",
            "tensor(0.1598, device='cuda:0', grad_fn=<NllLossBackward0>)\n",
            "tensor(0.1971, device='cuda:0', grad_fn=<NllLossBackward0>)\n",
            "tensor(0.1835, device='cuda:0', grad_fn=<NllLossBackward0>)\n",
            "tensor(0.1953, device='cuda:0', grad_fn=<NllLossBackward0>)\n",
            "tensor(0.2264, device='cuda:0', grad_fn=<NllLossBackward0>)\n",
            "tensor(0.1851, device='cuda:0', grad_fn=<NllLossBackward0>)\n",
            "tensor(0.1599, device='cuda:0', grad_fn=<NllLossBackward0>)\n",
            "tensor(0.0933, device='cuda:0', grad_fn=<NllLossBackward0>)\n",
            "tensor(0.1776, device='cuda:0', grad_fn=<NllLossBackward0>)\n",
            "tensor(0.2014, device='cuda:0', grad_fn=<NllLossBackward0>)\n",
            "tensor(0.1174, device='cuda:0', grad_fn=<NllLossBackward0>)\n",
            "tensor(0.1219, device='cuda:0', grad_fn=<NllLossBackward0>)\n",
            "tensor(0.1023, device='cuda:0', grad_fn=<NllLossBackward0>)\n"
          ]
        }
      ]
    },
    {
      "cell_type": "markdown",
      "source": [
        "## 5-2. 모델 평가"
      ],
      "metadata": {
        "id": "Hb1-Tpsv3Olv"
      }
    },
    {
      "cell_type": "code",
      "source": [
        "# loss function 시각화\n",
        "plt.plot(loss_arr2)\n",
        "plt.show()"
      ],
      "metadata": {
        "colab": {
          "base_uri": "https://localhost:8080/",
          "height": 430
        },
        "id": "H0RCrLTJ1hIp",
        "outputId": "6dec92bc-60a4-425f-b2a6-140ea582bd63"
      },
      "execution_count": 16,
      "outputs": [
        {
          "output_type": "display_data",
          "data": {
            "text/plain": [
              "<Figure size 640x480 with 1 Axes>"
            ],
            "image/png": "[encoded data removed]"
          },
          "metadata": {}
        }
      ]
    },
    {
      "cell_type": "code",
      "source": [
        "# test data로 모델 prediction\n",
        "correct, total = 0 , 0\n",
        "\n",
        "with torch.no_grad():\n",
        "  for image, label in test_loader:\n",
        "\n",
        "    x = image.to(device)\n",
        "    y_ = label.to(device)\n",
        "\n",
        "    output1 = model.forward(x)\n",
        "\n",
        "    _,output_index = torch.max(output1,1)\n",
        "\n",
        "    total += label.size(0)\n",
        "\n",
        "    correct += (output_index == y_).sum().float()\n",
        "\n",
        "  print(\"Accuracy of Test Data : {}%\".format(100*correct/total))"
      ],
      "metadata": {
        "colab": {
          "base_uri": "https://localhost:8080/"
        },
        "id": "hgRR9qEY1nm-",
        "outputId": "6ff05c7c-f909-4ce0-a8e4-5a3dae60a1c1"
      },
      "execution_count": 17,
      "outputs": [
        {
          "output_type": "stream",
          "name": "stdout",
          "text": [
            "Accuracy of Test Data : 95.45940399169922%\n"
          ]
        }
      ]
    }
  ]
}