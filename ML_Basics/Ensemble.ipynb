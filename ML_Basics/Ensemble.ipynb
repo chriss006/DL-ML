{
  "cells": [
    {
      "cell_type": "markdown",
      "metadata": {
        "id": "qoJueoLeO1hl"
      },
      "source": [
        "## **Ensemble 과제**\n",
        "\n",
        "1. noise=0.4인 1000개의 데이터셋을 생성합니다.\n",
        "2. train_test_split() 을 사용해 훈련 셋과 테스트 셋으로 나눕니다.\n",
        "3. 간접 투표 방식으로 Logistic Regression, Decision tree classifier를 사용한 bagging classification (#50, #100, #200), SVM 모델을 이용하여 여러 조합의 앙상블 학습을 시도하세요.\n",
        "4. 가장 좋은 성능을 보이는 조합을 텍스트 셀을 추가하여 작성하세요."
      ]
    },
    {
      "cell_type": "code",
      "execution_count": 20,
      "metadata": {
        "id": "oAsxkNgq_DJD"
      },
      "outputs": [],
      "source": [
        "from sklearn.datasets import make_moons\n",
        "from sklearn.ensemble import  BaggingClassifier, RandomForestClassifier, VotingClassifier\n",
        "from sklearn.linear_model import LogisticRegression\n",
        "from sklearn.model_selection import train_test_split\n",
        "from sklearn.tree import DecisionTreeClassifier\n",
        "from sklearn.svm import SVC"
      ]
    },
    {
      "cell_type": "code",
      "execution_count": 21,
      "metadata": {
        "id": "5Q07q6FbSy9X"
      },
      "outputs": [],
      "source": [
        "X, y= make_moons(n_samples=1000, noise=0.4, random_state=42)\n",
        "X_train, X_test, y_train, y_test = train_test_split(X, y, random_state=42)"
      ]
    },
    {
      "cell_type": "markdown",
      "metadata": {
        "id": "_69Rs0nvPd7o"
      },
      "source": [
        "### **실험 1. DT의 n_estimator를 50으로 설정**\n",
        "\n",
        "- LogisticRegression\n",
        "- SVM\n",
        "- Bagging을 적용한 Decision Tree\n",
        "  - n_estimator : 50\n",
        "  - 랜덤 패치 방식으로 특성 샘플링 진행\n",
        "    - max_samples : 0.8\n",
        "    - max_features : 0.8"
      ]
    },
    {
      "cell_type": "code",
      "execution_count": 37,
      "metadata": {
        "colab": {
          "base_uri": "https://localhost:8080/",
          "height": 151
        },
        "id": "_ont_UyR_Vfe",
        "outputId": "70e06c58-6194-49ac-f985-eb32c6ceb53c"
      },
      "outputs": [
        {
          "data": {
            "text/html": [
              "<style>#sk-container-id-7 {color: black;background-color: white;}#sk-container-id-7 pre{padding: 0;}#sk-container-id-7 div.sk-toggleable {background-color: white;}#sk-container-id-7 label.sk-toggleable__label {cursor: pointer;display: block;width: 100%;margin-bottom: 0;padding: 0.3em;box-sizing: border-box;text-align: center;}#sk-container-id-7 label.sk-toggleable__label-arrow:before {content: \"▸\";float: left;margin-right: 0.25em;color: #696969;}#sk-container-id-7 label.sk-toggleable__label-arrow:hover:before {color: black;}#sk-container-id-7 div.sk-estimator:hover label.sk-toggleable__label-arrow:before {color: black;}#sk-container-id-7 div.sk-toggleable__content {max-height: 0;max-width: 0;overflow: hidden;text-align: left;background-color: #f0f8ff;}#sk-container-id-7 div.sk-toggleable__content pre {margin: 0.2em;color: black;border-radius: 0.25em;background-color: #f0f8ff;}#sk-container-id-7 input.sk-toggleable__control:checked~div.sk-toggleable__content {max-height: 200px;max-width: 100%;overflow: auto;}#sk-container-id-7 input.sk-toggleable__control:checked~label.sk-toggleable__label-arrow:before {content: \"▾\";}#sk-container-id-7 div.sk-estimator input.sk-toggleable__control:checked~label.sk-toggleable__label {background-color: #d4ebff;}#sk-container-id-7 div.sk-label input.sk-toggleable__control:checked~label.sk-toggleable__label {background-color: #d4ebff;}#sk-container-id-7 input.sk-hidden--visually {border: 0;clip: rect(1px 1px 1px 1px);clip: rect(1px, 1px, 1px, 1px);height: 1px;margin: -1px;overflow: hidden;padding: 0;position: absolute;width: 1px;}#sk-container-id-7 div.sk-estimator {font-family: monospace;background-color: #f0f8ff;border: 1px dotted black;border-radius: 0.25em;box-sizing: border-box;margin-bottom: 0.5em;}#sk-container-id-7 div.sk-estimator:hover {background-color: #d4ebff;}#sk-container-id-7 div.sk-parallel-item::after {content: \"\";width: 100%;border-bottom: 1px solid gray;flex-grow: 1;}#sk-container-id-7 div.sk-label:hover label.sk-toggleable__label {background-color: #d4ebff;}#sk-container-id-7 div.sk-serial::before {content: \"\";position: absolute;border-left: 1px solid gray;box-sizing: border-box;top: 0;bottom: 0;left: 50%;z-index: 0;}#sk-container-id-7 div.sk-serial {display: flex;flex-direction: column;align-items: center;background-color: white;padding-right: 0.2em;padding-left: 0.2em;position: relative;}#sk-container-id-7 div.sk-item {position: relative;z-index: 1;}#sk-container-id-7 div.sk-parallel {display: flex;align-items: stretch;justify-content: center;background-color: white;position: relative;}#sk-container-id-7 div.sk-item::before, #sk-container-id-7 div.sk-parallel-item::before {content: \"\";position: absolute;border-left: 1px solid gray;box-sizing: border-box;top: 0;bottom: 0;left: 50%;z-index: -1;}#sk-container-id-7 div.sk-parallel-item {display: flex;flex-direction: column;z-index: 1;position: relative;background-color: white;}#sk-container-id-7 div.sk-parallel-item:first-child::after {align-self: flex-end;width: 50%;}#sk-container-id-7 div.sk-parallel-item:last-child::after {align-self: flex-start;width: 50%;}#sk-container-id-7 div.sk-parallel-item:only-child::after {width: 0;}#sk-container-id-7 div.sk-dashed-wrapped {border: 1px dashed gray;margin: 0 0.4em 0.5em 0.4em;box-sizing: border-box;padding-bottom: 0.4em;background-color: white;}#sk-container-id-7 div.sk-label label {font-family: monospace;font-weight: bold;display: inline-block;line-height: 1.2em;}#sk-container-id-7 div.sk-label-container {text-align: center;}#sk-container-id-7 div.sk-container {/* jupyter's `normalize.less` sets `[hidden] { display: none; }` but bootstrap.min.css set `[hidden] { display: none !important; }` so we also need the `!important` here to be able to override the default hidden behavior on the sphinx rendered scikit-learn.org. See: https://github.com/scikit-learn/scikit-learn/issues/21755 */display: inline-block !important;position: relative;}#sk-container-id-7 div.sk-text-repr-fallback {display: none;}</style><div id=\"sk-container-id-7\" class=\"sk-top-container\"><div class=\"sk-text-repr-fallback\"><pre>VotingClassifier(estimators=[(&#x27;lr&#x27;, LogisticRegression(random_state=42)),\n",
              "                             (&#x27;svc&#x27;, SVC(probability=True, random_state=42)),\n",
              "                             (&#x27;bag_dt&#x27;,\n",
              "                              BaggingClassifier(estimator=DecisionTreeClassifier(random_state=42),\n",
              "                                                max_features=0.8,\n",
              "                                                max_samples=0.8,\n",
              "                                                n_estimators=50, oob_score=True,\n",
              "                                                random_state=42))],\n",
              "                 voting=&#x27;soft&#x27;)</pre><b>In a Jupyter environment, please rerun this cell to show the HTML representation or trust the notebook. <br />On GitHub, the HTML representation is unable to render, please try loading this page with nbviewer.org.</b></div><div class=\"sk-container\" hidden><div class=\"sk-item sk-dashed-wrapped\"><div class=\"sk-label-container\"><div class=\"sk-label sk-toggleable\"><input class=\"sk-toggleable__control sk-hidden--visually\" id=\"sk-estimator-id-28\" type=\"checkbox\" ><label for=\"sk-estimator-id-28\" class=\"sk-toggleable__label sk-toggleable__label-arrow\">VotingClassifier</label><div class=\"sk-toggleable__content\"><pre>VotingClassifier(estimators=[(&#x27;lr&#x27;, LogisticRegression(random_state=42)),\n",
              "                             (&#x27;svc&#x27;, SVC(probability=True, random_state=42)),\n",
              "                             (&#x27;bag_dt&#x27;,\n",
              "                              BaggingClassifier(estimator=DecisionTreeClassifier(random_state=42),\n",
              "                                                max_features=0.8,\n",
              "                                                max_samples=0.8,\n",
              "                                                n_estimators=50, oob_score=True,\n",
              "                                                random_state=42))],\n",
              "                 voting=&#x27;soft&#x27;)</pre></div></div></div><div class=\"sk-parallel\"><div class=\"sk-parallel-item\"><div class=\"sk-item\"><div class=\"sk-label-container\"><div class=\"sk-label sk-toggleable\"><label>lr</label></div></div><div class=\"sk-serial\"><div class=\"sk-item\"><div class=\"sk-estimator sk-toggleable\"><input class=\"sk-toggleable__control sk-hidden--visually\" id=\"sk-estimator-id-29\" type=\"checkbox\" ><label for=\"sk-estimator-id-29\" class=\"sk-toggleable__label sk-toggleable__label-arrow\">LogisticRegression</label><div class=\"sk-toggleable__content\"><pre>LogisticRegression(random_state=42)</pre></div></div></div></div></div></div><div class=\"sk-parallel-item\"><div class=\"sk-item\"><div class=\"sk-label-container\"><div class=\"sk-label sk-toggleable\"><label>svc</label></div></div><div class=\"sk-serial\"><div class=\"sk-item\"><div class=\"sk-estimator sk-toggleable\"><input class=\"sk-toggleable__control sk-hidden--visually\" id=\"sk-estimator-id-30\" type=\"checkbox\" ><label for=\"sk-estimator-id-30\" class=\"sk-toggleable__label sk-toggleable__label-arrow\">SVC</label><div class=\"sk-toggleable__content\"><pre>SVC(probability=True, random_state=42)</pre></div></div></div></div></div></div><div class=\"sk-parallel-item\"><div class=\"sk-item\"><div class=\"sk-label-container\"><div class=\"sk-label sk-toggleable\"><label>bag_dt</label></div></div><div class=\"sk-serial\"><div class=\"sk-item sk-dashed-wrapped\"><div class=\"sk-parallel\"><div class=\"sk-parallel-item\"><div class=\"sk-item\"><div class=\"sk-label-container\"><div class=\"sk-label sk-toggleable\"><input class=\"sk-toggleable__control sk-hidden--visually\" id=\"sk-estimator-id-31\" type=\"checkbox\" ><label for=\"sk-estimator-id-31\" class=\"sk-toggleable__label sk-toggleable__label-arrow\">estimator: DecisionTreeClassifier</label><div class=\"sk-toggleable__content\"><pre>DecisionTreeClassifier(random_state=42)</pre></div></div></div><div class=\"sk-serial\"><div class=\"sk-item\"><div class=\"sk-estimator sk-toggleable\"><input class=\"sk-toggleable__control sk-hidden--visually\" id=\"sk-estimator-id-32\" type=\"checkbox\" ><label for=\"sk-estimator-id-32\" class=\"sk-toggleable__label sk-toggleable__label-arrow\">DecisionTreeClassifier</label><div class=\"sk-toggleable__content\"><pre>DecisionTreeClassifier(random_state=42)</pre></div></div></div></div></div></div></div></div></div></div></div></div></div></div></div>"
            ],
            "text/plain": [
              "VotingClassifier(estimators=[('lr', LogisticRegression(random_state=42)),\n",
              "                             ('svc', SVC(probability=True, random_state=42)),\n",
              "                             ('bag_dt',\n",
              "                              BaggingClassifier(estimator=DecisionTreeClassifier(random_state=42),\n",
              "                                                max_features=0.8,\n",
              "                                                max_samples=0.8,\n",
              "                                                n_estimators=50, oob_score=True,\n",
              "                                                random_state=42))],\n",
              "                 voting='soft')"
            ]
          },
          "execution_count": 37,
          "metadata": {},
          "output_type": "execute_result"
        }
      ],
      "source": [
        "# Bagging으로 결정 트리 설정 (OOB 평가 활성화)\n",
        "bagged_dt = BaggingClassifier(\n",
        "    DecisionTreeClassifier(random_state=42),\n",
        "    n_estimators=50,\n",
        "    max_samples=0.8, max_features=0.8,\n",
        "    oob_score=True,\n",
        "    random_state=42)\n",
        "\n",
        "# 간접 투표 방식의 앙상블 모델\n",
        "voting_clf = VotingClassifier(\n",
        "    estimators=[\n",
        "        ('lr', LogisticRegression(random_state=42)),\n",
        "        ('svc', SVC(probability=True, random_state=42)),\n",
        "        ('bag_dt', bagged_dt)\n",
        "    ],\n",
        "    voting = 'soft'\n",
        ")\n",
        "\n",
        "voting_clf.fit(X_train, y_train)"
      ]
    },
    {
      "cell_type": "code",
      "execution_count": 45,
      "metadata": {
        "colab": {
          "base_uri": "https://localhost:8080/"
        },
        "id": "_8OER-eBARp8",
        "outputId": "c53cecaf-755c-4144-8a33-5f2f853eaf81"
      },
      "outputs": [
        {
          "name": "stdout",
          "output_type": "stream",
          "text": [
            "Ensemble test accuracy: 0.85\n"
          ]
        }
      ],
      "source": [
        "# 전체 테스트 세트에 대한 앙상블 모델의 정확도\n",
        "print(f'Ensemble test accuracy: {voting_clf.score(X_test, y_test):.2f}')"
      ]
    },
    {
      "cell_type": "code",
      "execution_count": 48,
      "metadata": {
        "colab": {
          "base_uri": "https://localhost:8080/"
        },
        "id": "N5eSJPWy_4ss",
        "outputId": "d788b723-6100-4083-f4fc-bd522a4125ed"
      },
      "outputs": [
        {
          "name": "stdout",
          "output_type": "stream",
          "text": [
            "lr accuracy: 0.84\n",
            "svc accuracy: 0.86\n",
            "bag_dt OOB accuracy: 0.75\n",
            "bag_dt accuracy: 0.75\n"
          ]
        }
      ],
      "source": [
        "# 개별 모델의 테스트 세트에 대한 정확도 확인\n",
        "for name, clf in voting_clf.named_estimators_.items():\n",
        "  if name == 'bag_dt':\n",
        "    print(f\"{name} OOB accuracy: {clf.oob_score_:.2f}\")  # OOB 평가 결과 출력\n",
        "  print(f'{name} accuracy: {clf.score(X_test, y_test):.2f}')"
      ]
    },
    {
      "cell_type": "code",
      "execution_count": 50,
      "metadata": {
        "colab": {
          "base_uri": "https://localhost:8080/"
        },
        "id": "1uE06YuWAHd1",
        "outputId": "2cc669ca-5100-483d-b024-502f457cdb8b"
      },
      "outputs": [
        {
          "name": "stdout",
          "output_type": "stream",
          "text": [
            "Ensemble prediction : [1]\n",
            "Logistic prediction : [1]\n",
            "SVC prediction : [1]\n",
            "Bag_DT prediction : [0]\n"
          ]
        }
      ],
      "source": [
        "# 앙상블 모델의 테스트 데이터의 첫번째 샘플에 대한 예측 진행\n",
        "print(f'Ensemble prediction : {voting_clf.predict(X_test[:1])}')\n",
        "\n",
        "# 개별 모델을 사용하여 첫번째 샘플에 대한 예측 진행\n",
        "results = [clf.predict(X_test[:1]) for clf in voting_clf.estimators_]\n",
        "print(f'Logistic prediction : {results[0]}')\n",
        "print(f'SVC prediction : {results[1]}')\n",
        "print(f'Bag_DT prediction : {results[2]}')"
      ]
    },
    {
      "cell_type": "markdown",
      "metadata": {
        "id": "35o5GCCPVzbd"
      },
      "source": [
        "### **실험 2. DT의 n_estimator를 100으로 설정**\n",
        "\n",
        "- LogisticRegression\n",
        "- SVM\n",
        "- Bagging을 적용한 Decision Tree\n",
        "  - n_estimator : 100\n",
        "  - 랜덤 패치 방식으로 특성 샘플링 진행\n",
        "    - max_samples : 0.8\n",
        "    - max_features : 0.8"
      ]
    },
    {
      "cell_type": "code",
      "execution_count": 51,
      "metadata": {
        "colab": {
          "base_uri": "https://localhost:8080/",
          "height": 151
        },
        "id": "Aib9VKtEV058",
        "outputId": "c6123908-f871-407d-a5bc-8a304f810744"
      },
      "outputs": [
        {
          "data": {
            "text/html": [
              "<style>#sk-container-id-8 {color: black;background-color: white;}#sk-container-id-8 pre{padding: 0;}#sk-container-id-8 div.sk-toggleable {background-color: white;}#sk-container-id-8 label.sk-toggleable__label {cursor: pointer;display: block;width: 100%;margin-bottom: 0;padding: 0.3em;box-sizing: border-box;text-align: center;}#sk-container-id-8 label.sk-toggleable__label-arrow:before {content: \"▸\";float: left;margin-right: 0.25em;color: #696969;}#sk-container-id-8 label.sk-toggleable__label-arrow:hover:before {color: black;}#sk-container-id-8 div.sk-estimator:hover label.sk-toggleable__label-arrow:before {color: black;}#sk-container-id-8 div.sk-toggleable__content {max-height: 0;max-width: 0;overflow: hidden;text-align: left;background-color: #f0f8ff;}#sk-container-id-8 div.sk-toggleable__content pre {margin: 0.2em;color: black;border-radius: 0.25em;background-color: #f0f8ff;}#sk-container-id-8 input.sk-toggleable__control:checked~div.sk-toggleable__content {max-height: 200px;max-width: 100%;overflow: auto;}#sk-container-id-8 input.sk-toggleable__control:checked~label.sk-toggleable__label-arrow:before {content: \"▾\";}#sk-container-id-8 div.sk-estimator input.sk-toggleable__control:checked~label.sk-toggleable__label {background-color: #d4ebff;}#sk-container-id-8 div.sk-label input.sk-toggleable__control:checked~label.sk-toggleable__label {background-color: #d4ebff;}#sk-container-id-8 input.sk-hidden--visually {border: 0;clip: rect(1px 1px 1px 1px);clip: rect(1px, 1px, 1px, 1px);height: 1px;margin: -1px;overflow: hidden;padding: 0;position: absolute;width: 1px;}#sk-container-id-8 div.sk-estimator {font-family: monospace;background-color: #f0f8ff;border: 1px dotted black;border-radius: 0.25em;box-sizing: border-box;margin-bottom: 0.5em;}#sk-container-id-8 div.sk-estimator:hover {background-color: #d4ebff;}#sk-container-id-8 div.sk-parallel-item::after {content: \"\";width: 100%;border-bottom: 1px solid gray;flex-grow: 1;}#sk-container-id-8 div.sk-label:hover label.sk-toggleable__label {background-color: #d4ebff;}#sk-container-id-8 div.sk-serial::before {content: \"\";position: absolute;border-left: 1px solid gray;box-sizing: border-box;top: 0;bottom: 0;left: 50%;z-index: 0;}#sk-container-id-8 div.sk-serial {display: flex;flex-direction: column;align-items: center;background-color: white;padding-right: 0.2em;padding-left: 0.2em;position: relative;}#sk-container-id-8 div.sk-item {position: relative;z-index: 1;}#sk-container-id-8 div.sk-parallel {display: flex;align-items: stretch;justify-content: center;background-color: white;position: relative;}#sk-container-id-8 div.sk-item::before, #sk-container-id-8 div.sk-parallel-item::before {content: \"\";position: absolute;border-left: 1px solid gray;box-sizing: border-box;top: 0;bottom: 0;left: 50%;z-index: -1;}#sk-container-id-8 div.sk-parallel-item {display: flex;flex-direction: column;z-index: 1;position: relative;background-color: white;}#sk-container-id-8 div.sk-parallel-item:first-child::after {align-self: flex-end;width: 50%;}#sk-container-id-8 div.sk-parallel-item:last-child::after {align-self: flex-start;width: 50%;}#sk-container-id-8 div.sk-parallel-item:only-child::after {width: 0;}#sk-container-id-8 div.sk-dashed-wrapped {border: 1px dashed gray;margin: 0 0.4em 0.5em 0.4em;box-sizing: border-box;padding-bottom: 0.4em;background-color: white;}#sk-container-id-8 div.sk-label label {font-family: monospace;font-weight: bold;display: inline-block;line-height: 1.2em;}#sk-container-id-8 div.sk-label-container {text-align: center;}#sk-container-id-8 div.sk-container {/* jupyter's `normalize.less` sets `[hidden] { display: none; }` but bootstrap.min.css set `[hidden] { display: none !important; }` so we also need the `!important` here to be able to override the default hidden behavior on the sphinx rendered scikit-learn.org. See: https://github.com/scikit-learn/scikit-learn/issues/21755 */display: inline-block !important;position: relative;}#sk-container-id-8 div.sk-text-repr-fallback {display: none;}</style><div id=\"sk-container-id-8\" class=\"sk-top-container\"><div class=\"sk-text-repr-fallback\"><pre>VotingClassifier(estimators=[(&#x27;lr&#x27;, LogisticRegression(random_state=42)),\n",
              "                             (&#x27;svc&#x27;, SVC(probability=True, random_state=42)),\n",
              "                             (&#x27;bag_dt&#x27;,\n",
              "                              BaggingClassifier(estimator=DecisionTreeClassifier(random_state=42),\n",
              "                                                max_features=0.8,\n",
              "                                                max_samples=0.8,\n",
              "                                                n_estimators=100,\n",
              "                                                oob_score=True,\n",
              "                                                random_state=42))],\n",
              "                 voting=&#x27;soft&#x27;)</pre><b>In a Jupyter environment, please rerun this cell to show the HTML representation or trust the notebook. <br />On GitHub, the HTML representation is unable to render, please try loading this page with nbviewer.org.</b></div><div class=\"sk-container\" hidden><div class=\"sk-item sk-dashed-wrapped\"><div class=\"sk-label-container\"><div class=\"sk-label sk-toggleable\"><input class=\"sk-toggleable__control sk-hidden--visually\" id=\"sk-estimator-id-33\" type=\"checkbox\" ><label for=\"sk-estimator-id-33\" class=\"sk-toggleable__label sk-toggleable__label-arrow\">VotingClassifier</label><div class=\"sk-toggleable__content\"><pre>VotingClassifier(estimators=[(&#x27;lr&#x27;, LogisticRegression(random_state=42)),\n",
              "                             (&#x27;svc&#x27;, SVC(probability=True, random_state=42)),\n",
              "                             (&#x27;bag_dt&#x27;,\n",
              "                              BaggingClassifier(estimator=DecisionTreeClassifier(random_state=42),\n",
              "                                                max_features=0.8,\n",
              "                                                max_samples=0.8,\n",
              "                                                n_estimators=100,\n",
              "                                                oob_score=True,\n",
              "                                                random_state=42))],\n",
              "                 voting=&#x27;soft&#x27;)</pre></div></div></div><div class=\"sk-parallel\"><div class=\"sk-parallel-item\"><div class=\"sk-item\"><div class=\"sk-label-container\"><div class=\"sk-label sk-toggleable\"><label>lr</label></div></div><div class=\"sk-serial\"><div class=\"sk-item\"><div class=\"sk-estimator sk-toggleable\"><input class=\"sk-toggleable__control sk-hidden--visually\" id=\"sk-estimator-id-34\" type=\"checkbox\" ><label for=\"sk-estimator-id-34\" class=\"sk-toggleable__label sk-toggleable__label-arrow\">LogisticRegression</label><div class=\"sk-toggleable__content\"><pre>LogisticRegression(random_state=42)</pre></div></div></div></div></div></div><div class=\"sk-parallel-item\"><div class=\"sk-item\"><div class=\"sk-label-container\"><div class=\"sk-label sk-toggleable\"><label>svc</label></div></div><div class=\"sk-serial\"><div class=\"sk-item\"><div class=\"sk-estimator sk-toggleable\"><input class=\"sk-toggleable__control sk-hidden--visually\" id=\"sk-estimator-id-35\" type=\"checkbox\" ><label for=\"sk-estimator-id-35\" class=\"sk-toggleable__label sk-toggleable__label-arrow\">SVC</label><div class=\"sk-toggleable__content\"><pre>SVC(probability=True, random_state=42)</pre></div></div></div></div></div></div><div class=\"sk-parallel-item\"><div class=\"sk-item\"><div class=\"sk-label-container\"><div class=\"sk-label sk-toggleable\"><label>bag_dt</label></div></div><div class=\"sk-serial\"><div class=\"sk-item sk-dashed-wrapped\"><div class=\"sk-parallel\"><div class=\"sk-parallel-item\"><div class=\"sk-item\"><div class=\"sk-label-container\"><div class=\"sk-label sk-toggleable\"><input class=\"sk-toggleable__control sk-hidden--visually\" id=\"sk-estimator-id-36\" type=\"checkbox\" ><label for=\"sk-estimator-id-36\" class=\"sk-toggleable__label sk-toggleable__label-arrow\">estimator: DecisionTreeClassifier</label><div class=\"sk-toggleable__content\"><pre>DecisionTreeClassifier(random_state=42)</pre></div></div></div><div class=\"sk-serial\"><div class=\"sk-item\"><div class=\"sk-estimator sk-toggleable\"><input class=\"sk-toggleable__control sk-hidden--visually\" id=\"sk-estimator-id-37\" type=\"checkbox\" ><label for=\"sk-estimator-id-37\" class=\"sk-toggleable__label sk-toggleable__label-arrow\">DecisionTreeClassifier</label><div class=\"sk-toggleable__content\"><pre>DecisionTreeClassifier(random_state=42)</pre></div></div></div></div></div></div></div></div></div></div></div></div></div></div></div>"
            ],
            "text/plain": [
              "VotingClassifier(estimators=[('lr', LogisticRegression(random_state=42)),\n",
              "                             ('svc', SVC(probability=True, random_state=42)),\n",
              "                             ('bag_dt',\n",
              "                              BaggingClassifier(estimator=DecisionTreeClassifier(random_state=42),\n",
              "                                                max_features=0.8,\n",
              "                                                max_samples=0.8,\n",
              "                                                n_estimators=100,\n",
              "                                                oob_score=True,\n",
              "                                                random_state=42))],\n",
              "                 voting='soft')"
            ]
          },
          "execution_count": 51,
          "metadata": {},
          "output_type": "execute_result"
        }
      ],
      "source": [
        "# Bagging으로 결정 트리 설정 (OOB 평가 활성화)\n",
        "bagged_dt = BaggingClassifier(\n",
        "    DecisionTreeClassifier(random_state=42),\n",
        "    n_estimators=100,\n",
        "    max_samples=0.8, max_features=0.8,\n",
        "    oob_score=True,\n",
        "    random_state=42)\n",
        "\n",
        "# 간접 투표 방식의 앙상블 모델\n",
        "voting_clf = VotingClassifier(\n",
        "    estimators=[\n",
        "        ('lr', LogisticRegression(random_state=42)),\n",
        "        ('svc', SVC(probability=True, random_state=42)),\n",
        "        ('bag_dt', bagged_dt)\n",
        "    ],\n",
        "    voting = 'soft'\n",
        ")\n",
        "\n",
        "voting_clf.fit(X_train, y_train)"
      ]
    },
    {
      "cell_type": "code",
      "execution_count": 54,
      "metadata": {
        "colab": {
          "base_uri": "https://localhost:8080/"
        },
        "id": "WejA2BgBbi2i",
        "outputId": "98a913ce-84a9-4d4a-e231-3a82d44e8555"
      },
      "outputs": [
        {
          "name": "stdout",
          "output_type": "stream",
          "text": [
            "Ensemble test accuracy: 0.85\n"
          ]
        }
      ],
      "source": [
        "# 전체 테스트 세트에 대한 앙상블 모델의 정확도\n",
        "print(f'Ensemble test accuracy: {voting_clf.score(X_test, y_test):.2f}')"
      ]
    },
    {
      "cell_type": "code",
      "execution_count": 52,
      "metadata": {
        "colab": {
          "base_uri": "https://localhost:8080/"
        },
        "id": "U-XNwmwJbeqV",
        "outputId": "8541760e-19cf-4d75-eca5-982445ae8049"
      },
      "outputs": [
        {
          "name": "stdout",
          "output_type": "stream",
          "text": [
            "lr accuracy: 0.84\n",
            "svc accuracy: 0.86\n",
            "bag_dt OOB accuracy: 0.76\n",
            "bag_dt accuracy: 0.78\n"
          ]
        }
      ],
      "source": [
        "# 개별 모델의 테스트 세트에 대한 정확도 확인\n",
        "for name, clf in voting_clf.named_estimators_.items():\n",
        "  if name == 'bag_dt':\n",
        "    print(f\"{name} OOB accuracy: {clf.oob_score_:.2f}\")  # OOB 평가 결과 출력\n",
        "  print(f'{name} accuracy: {clf.score(X_test, y_test):.2f}')"
      ]
    },
    {
      "cell_type": "code",
      "execution_count": 53,
      "metadata": {
        "colab": {
          "base_uri": "https://localhost:8080/"
        },
        "id": "dTPpa6uBbg9w",
        "outputId": "2bc75df9-8636-46b8-a103-47cc1312111e"
      },
      "outputs": [
        {
          "name": "stdout",
          "output_type": "stream",
          "text": [
            "Ensemble prediction : [1]\n",
            "Logistic prediction : [1]\n",
            "SVC prediction : [1]\n",
            "Bag_DT prediction : [0]\n"
          ]
        }
      ],
      "source": [
        "# 앙상블 모델의 테스트 데이터의 첫번째 샘플에 대한 예측 진행\n",
        "print(f'Ensemble prediction : {voting_clf.predict(X_test[:1])}')\n",
        "\n",
        "# 개별 모델을 사용하여 첫번째 샘플에 대한 예측 진행\n",
        "results = [clf.predict(X_test[:1]) for clf in voting_clf.estimators_]\n",
        "print(f'Logistic prediction : {results[0]}')\n",
        "print(f'SVC prediction : {results[1]}')\n",
        "print(f'Bag_DT prediction : {results[2]}')"
      ]
    },
    {
      "cell_type": "markdown",
      "metadata": {
        "id": "up08-aJDb7vO"
      },
      "source": [
        "### **실험 3. DT의 n_estimator를 200으로 설정**\n",
        "\n",
        "- LogisticRegression\n",
        "- SVM\n",
        "- Bagging을 적용한 Decision Tree\n",
        "  - n_estimator : 200\n",
        "  - 랜덤 패치 방식으로 특성 샘플링 진행\n",
        "    - max_samples : 0.8\n",
        "    - max_features : 0.8"
      ]
    },
    {
      "cell_type": "code",
      "execution_count": 58,
      "metadata": {
        "colab": {
          "base_uri": "https://localhost:8080/",
          "height": 151
        },
        "id": "9hf7kF98b9OZ",
        "outputId": "659cc624-0084-4e98-fe10-34e520966650"
      },
      "outputs": [
        {
          "data": {
            "text/html": [
              "<style>#sk-container-id-10 {color: black;background-color: white;}#sk-container-id-10 pre{padding: 0;}#sk-container-id-10 div.sk-toggleable {background-color: white;}#sk-container-id-10 label.sk-toggleable__label {cursor: pointer;display: block;width: 100%;margin-bottom: 0;padding: 0.3em;box-sizing: border-box;text-align: center;}#sk-container-id-10 label.sk-toggleable__label-arrow:before {content: \"▸\";float: left;margin-right: 0.25em;color: #696969;}#sk-container-id-10 label.sk-toggleable__label-arrow:hover:before {color: black;}#sk-container-id-10 div.sk-estimator:hover label.sk-toggleable__label-arrow:before {color: black;}#sk-container-id-10 div.sk-toggleable__content {max-height: 0;max-width: 0;overflow: hidden;text-align: left;background-color: #f0f8ff;}#sk-container-id-10 div.sk-toggleable__content pre {margin: 0.2em;color: black;border-radius: 0.25em;background-color: #f0f8ff;}#sk-container-id-10 input.sk-toggleable__control:checked~div.sk-toggleable__content {max-height: 200px;max-width: 100%;overflow: auto;}#sk-container-id-10 input.sk-toggleable__control:checked~label.sk-toggleable__label-arrow:before {content: \"▾\";}#sk-container-id-10 div.sk-estimator input.sk-toggleable__control:checked~label.sk-toggleable__label {background-color: #d4ebff;}#sk-container-id-10 div.sk-label input.sk-toggleable__control:checked~label.sk-toggleable__label {background-color: #d4ebff;}#sk-container-id-10 input.sk-hidden--visually {border: 0;clip: rect(1px 1px 1px 1px);clip: rect(1px, 1px, 1px, 1px);height: 1px;margin: -1px;overflow: hidden;padding: 0;position: absolute;width: 1px;}#sk-container-id-10 div.sk-estimator {font-family: monospace;background-color: #f0f8ff;border: 1px dotted black;border-radius: 0.25em;box-sizing: border-box;margin-bottom: 0.5em;}#sk-container-id-10 div.sk-estimator:hover {background-color: #d4ebff;}#sk-container-id-10 div.sk-parallel-item::after {content: \"\";width: 100%;border-bottom: 1px solid gray;flex-grow: 1;}#sk-container-id-10 div.sk-label:hover label.sk-toggleable__label {background-color: #d4ebff;}#sk-container-id-10 div.sk-serial::before {content: \"\";position: absolute;border-left: 1px solid gray;box-sizing: border-box;top: 0;bottom: 0;left: 50%;z-index: 0;}#sk-container-id-10 div.sk-serial {display: flex;flex-direction: column;align-items: center;background-color: white;padding-right: 0.2em;padding-left: 0.2em;position: relative;}#sk-container-id-10 div.sk-item {position: relative;z-index: 1;}#sk-container-id-10 div.sk-parallel {display: flex;align-items: stretch;justify-content: center;background-color: white;position: relative;}#sk-container-id-10 div.sk-item::before, #sk-container-id-10 div.sk-parallel-item::before {content: \"\";position: absolute;border-left: 1px solid gray;box-sizing: border-box;top: 0;bottom: 0;left: 50%;z-index: -1;}#sk-container-id-10 div.sk-parallel-item {display: flex;flex-direction: column;z-index: 1;position: relative;background-color: white;}#sk-container-id-10 div.sk-parallel-item:first-child::after {align-self: flex-end;width: 50%;}#sk-container-id-10 div.sk-parallel-item:last-child::after {align-self: flex-start;width: 50%;}#sk-container-id-10 div.sk-parallel-item:only-child::after {width: 0;}#sk-container-id-10 div.sk-dashed-wrapped {border: 1px dashed gray;margin: 0 0.4em 0.5em 0.4em;box-sizing: border-box;padding-bottom: 0.4em;background-color: white;}#sk-container-id-10 div.sk-label label {font-family: monospace;font-weight: bold;display: inline-block;line-height: 1.2em;}#sk-container-id-10 div.sk-label-container {text-align: center;}#sk-container-id-10 div.sk-container {/* jupyter's `normalize.less` sets `[hidden] { display: none; }` but bootstrap.min.css set `[hidden] { display: none !important; }` so we also need the `!important` here to be able to override the default hidden behavior on the sphinx rendered scikit-learn.org. See: https://github.com/scikit-learn/scikit-learn/issues/21755 */display: inline-block !important;position: relative;}#sk-container-id-10 div.sk-text-repr-fallback {display: none;}</style><div id=\"sk-container-id-10\" class=\"sk-top-container\"><div class=\"sk-text-repr-fallback\"><pre>VotingClassifier(estimators=[(&#x27;lr&#x27;, LogisticRegression(random_state=42)),\n",
              "                             (&#x27;svc&#x27;, SVC(probability=True, random_state=42)),\n",
              "                             (&#x27;bag_dt&#x27;,\n",
              "                              BaggingClassifier(estimator=DecisionTreeClassifier(random_state=42),\n",
              "                                                max_features=0.8,\n",
              "                                                max_samples=0.8,\n",
              "                                                n_estimators=200,\n",
              "                                                oob_score=True,\n",
              "                                                random_state=42))],\n",
              "                 voting=&#x27;soft&#x27;)</pre><b>In a Jupyter environment, please rerun this cell to show the HTML representation or trust the notebook. <br />On GitHub, the HTML representation is unable to render, please try loading this page with nbviewer.org.</b></div><div class=\"sk-container\" hidden><div class=\"sk-item sk-dashed-wrapped\"><div class=\"sk-label-container\"><div class=\"sk-label sk-toggleable\"><input class=\"sk-toggleable__control sk-hidden--visually\" id=\"sk-estimator-id-43\" type=\"checkbox\" ><label for=\"sk-estimator-id-43\" class=\"sk-toggleable__label sk-toggleable__label-arrow\">VotingClassifier</label><div class=\"sk-toggleable__content\"><pre>VotingClassifier(estimators=[(&#x27;lr&#x27;, LogisticRegression(random_state=42)),\n",
              "                             (&#x27;svc&#x27;, SVC(probability=True, random_state=42)),\n",
              "                             (&#x27;bag_dt&#x27;,\n",
              "                              BaggingClassifier(estimator=DecisionTreeClassifier(random_state=42),\n",
              "                                                max_features=0.8,\n",
              "                                                max_samples=0.8,\n",
              "                                                n_estimators=200,\n",
              "                                                oob_score=True,\n",
              "                                                random_state=42))],\n",
              "                 voting=&#x27;soft&#x27;)</pre></div></div></div><div class=\"sk-parallel\"><div class=\"sk-parallel-item\"><div class=\"sk-item\"><div class=\"sk-label-container\"><div class=\"sk-label sk-toggleable\"><label>lr</label></div></div><div class=\"sk-serial\"><div class=\"sk-item\"><div class=\"sk-estimator sk-toggleable\"><input class=\"sk-toggleable__control sk-hidden--visually\" id=\"sk-estimator-id-44\" type=\"checkbox\" ><label for=\"sk-estimator-id-44\" class=\"sk-toggleable__label sk-toggleable__label-arrow\">LogisticRegression</label><div class=\"sk-toggleable__content\"><pre>LogisticRegression(random_state=42)</pre></div></div></div></div></div></div><div class=\"sk-parallel-item\"><div class=\"sk-item\"><div class=\"sk-label-container\"><div class=\"sk-label sk-toggleable\"><label>svc</label></div></div><div class=\"sk-serial\"><div class=\"sk-item\"><div class=\"sk-estimator sk-toggleable\"><input class=\"sk-toggleable__control sk-hidden--visually\" id=\"sk-estimator-id-45\" type=\"checkbox\" ><label for=\"sk-estimator-id-45\" class=\"sk-toggleable__label sk-toggleable__label-arrow\">SVC</label><div class=\"sk-toggleable__content\"><pre>SVC(probability=True, random_state=42)</pre></div></div></div></div></div></div><div class=\"sk-parallel-item\"><div class=\"sk-item\"><div class=\"sk-label-container\"><div class=\"sk-label sk-toggleable\"><label>bag_dt</label></div></div><div class=\"sk-serial\"><div class=\"sk-item sk-dashed-wrapped\"><div class=\"sk-parallel\"><div class=\"sk-parallel-item\"><div class=\"sk-item\"><div class=\"sk-label-container\"><div class=\"sk-label sk-toggleable\"><input class=\"sk-toggleable__control sk-hidden--visually\" id=\"sk-estimator-id-46\" type=\"checkbox\" ><label for=\"sk-estimator-id-46\" class=\"sk-toggleable__label sk-toggleable__label-arrow\">estimator: DecisionTreeClassifier</label><div class=\"sk-toggleable__content\"><pre>DecisionTreeClassifier(random_state=42)</pre></div></div></div><div class=\"sk-serial\"><div class=\"sk-item\"><div class=\"sk-estimator sk-toggleable\"><input class=\"sk-toggleable__control sk-hidden--visually\" id=\"sk-estimator-id-47\" type=\"checkbox\" ><label for=\"sk-estimator-id-47\" class=\"sk-toggleable__label sk-toggleable__label-arrow\">DecisionTreeClassifier</label><div class=\"sk-toggleable__content\"><pre>DecisionTreeClassifier(random_state=42)</pre></div></div></div></div></div></div></div></div></div></div></div></div></div></div></div>"
            ],
            "text/plain": [
              "VotingClassifier(estimators=[('lr', LogisticRegression(random_state=42)),\n",
              "                             ('svc', SVC(probability=True, random_state=42)),\n",
              "                             ('bag_dt',\n",
              "                              BaggingClassifier(estimator=DecisionTreeClassifier(random_state=42),\n",
              "                                                max_features=0.8,\n",
              "                                                max_samples=0.8,\n",
              "                                                n_estimators=200,\n",
              "                                                oob_score=True,\n",
              "                                                random_state=42))],\n",
              "                 voting='soft')"
            ]
          },
          "execution_count": 58,
          "metadata": {},
          "output_type": "execute_result"
        }
      ],
      "source": [
        "# Bagging으로 결정 트리 설정 (OOB 평가 활성화)\n",
        "bagged_dt = BaggingClassifier(\n",
        "    DecisionTreeClassifier(random_state=42),\n",
        "    n_estimators=200,\n",
        "    max_samples=0.8, max_features=0.8,\n",
        "    oob_score=True,\n",
        "    random_state=42)\n",
        "\n",
        "# 간접 투표 방식의 앙상블 모델\n",
        "voting_clf = VotingClassifier(\n",
        "    estimators=[\n",
        "        ('lr', LogisticRegression(random_state=42)),\n",
        "        ('svc', SVC(probability=True, random_state=42)),\n",
        "        ('bag_dt', bagged_dt)\n",
        "    ],\n",
        "    voting = 'soft'\n",
        ")\n",
        "\n",
        "voting_clf.fit(X_train, y_train)"
      ]
    },
    {
      "cell_type": "code",
      "execution_count": 59,
      "metadata": {
        "colab": {
          "base_uri": "https://localhost:8080/"
        },
        "id": "yzrt3GWNcISy",
        "outputId": "1af6f82f-5291-473f-97aa-ddf05deba20b"
      },
      "outputs": [
        {
          "name": "stdout",
          "output_type": "stream",
          "text": [
            "Ensemble test accuracy: 0.86\n"
          ]
        }
      ],
      "source": [
        "# 전체 테스트 세트에 대한 앙상블 모델의 정확도\n",
        "print(f'Ensemble test accuracy: {voting_clf.score(X_test, y_test):.2f}')"
      ]
    },
    {
      "cell_type": "code",
      "execution_count": 61,
      "metadata": {
        "colab": {
          "base_uri": "https://localhost:8080/"
        },
        "id": "e_vUWTMXcN5H",
        "outputId": "f17b01aa-23f7-4051-d4ac-b292ad44475c"
      },
      "outputs": [
        {
          "name": "stdout",
          "output_type": "stream",
          "text": [
            "lr accuracy: 0.84\n",
            "svc accuracy: 0.86\n",
            "bag_dt OOB accuracy: 0.78\n",
            "bag_dt accuracy: 0.76\n"
          ]
        }
      ],
      "source": [
        "# 개별 모델의 테스트 세트에 대한 정확도 확인\n",
        "for name, clf in voting_clf.named_estimators_.items():\n",
        "  if name == 'bag_dt':\n",
        "    print(f\"{name} OOB accuracy: {clf.oob_score_:.2f}\")  # OOB 평가 결과 출력\n",
        "  print(f'{name} accuracy: {clf.score(X_test, y_test):.2f}')"
      ]
    },
    {
      "cell_type": "code",
      "execution_count": 62,
      "metadata": {
        "colab": {
          "base_uri": "https://localhost:8080/"
        },
        "id": "9AEW3XLAcPvh",
        "outputId": "8f2a3193-c0ce-4fa7-b81f-1984ad4c0c5c"
      },
      "outputs": [
        {
          "name": "stdout",
          "output_type": "stream",
          "text": [
            "Ensemble prediction : [1]\n",
            "Logistic prediction : [1]\n",
            "SVC prediction : [1]\n",
            "Bag_DT prediction : [0]\n"
          ]
        }
      ],
      "source": [
        "# 앙상블 모델의 테스트 데이터의 첫번째 샘플에 대한 예측 진행\n",
        "print(f'Ensemble prediction : {voting_clf.predict(X_test[:1])}')\n",
        "\n",
        "# 개별 모델을 사용하여 첫번째 샘플에 대한 예측 진행\n",
        "results = [clf.predict(X_test[:1]) for clf in voting_clf.estimators_]\n",
        "print(f'Logistic prediction : {results[0]}')\n",
        "print(f'SVC prediction : {results[1]}')\n",
        "print(f'Bag_DT prediction : {results[2]}')"
      ]
    },
    {
      "cell_type": "markdown",
      "metadata": {
        "id": "PcW0JXWycsFE"
      },
      "source": [
        "### **실험 4. DT의 n_estimator를 200으로 설정, 특성 샘플링 파라미터 조정(높임)**\n",
        "\n",
        "- LogisticRegression\n",
        "- SVM\n",
        "- Bagging을 적용한 Decision Tree\n",
        "  - n_estimator : 200\n",
        "  - 랜덤 패치 방식\n",
        "    - max_samples : 0.9\n",
        "    - max_features : 0.9"
      ]
    },
    {
      "cell_type": "code",
      "execution_count": 72,
      "metadata": {
        "colab": {
          "base_uri": "https://localhost:8080/",
          "height": 151
        },
        "id": "GIzjR0CZcoEx",
        "outputId": "f32585a8-a91f-4959-e6d2-07f3340afdf7"
      },
      "outputs": [
        {
          "data": {
            "text/html": [
              "<style>#sk-container-id-13 {color: black;background-color: white;}#sk-container-id-13 pre{padding: 0;}#sk-container-id-13 div.sk-toggleable {background-color: white;}#sk-container-id-13 label.sk-toggleable__label {cursor: pointer;display: block;width: 100%;margin-bottom: 0;padding: 0.3em;box-sizing: border-box;text-align: center;}#sk-container-id-13 label.sk-toggleable__label-arrow:before {content: \"▸\";float: left;margin-right: 0.25em;color: #696969;}#sk-container-id-13 label.sk-toggleable__label-arrow:hover:before {color: black;}#sk-container-id-13 div.sk-estimator:hover label.sk-toggleable__label-arrow:before {color: black;}#sk-container-id-13 div.sk-toggleable__content {max-height: 0;max-width: 0;overflow: hidden;text-align: left;background-color: #f0f8ff;}#sk-container-id-13 div.sk-toggleable__content pre {margin: 0.2em;color: black;border-radius: 0.25em;background-color: #f0f8ff;}#sk-container-id-13 input.sk-toggleable__control:checked~div.sk-toggleable__content {max-height: 200px;max-width: 100%;overflow: auto;}#sk-container-id-13 input.sk-toggleable__control:checked~label.sk-toggleable__label-arrow:before {content: \"▾\";}#sk-container-id-13 div.sk-estimator input.sk-toggleable__control:checked~label.sk-toggleable__label {background-color: #d4ebff;}#sk-container-id-13 div.sk-label input.sk-toggleable__control:checked~label.sk-toggleable__label {background-color: #d4ebff;}#sk-container-id-13 input.sk-hidden--visually {border: 0;clip: rect(1px 1px 1px 1px);clip: rect(1px, 1px, 1px, 1px);height: 1px;margin: -1px;overflow: hidden;padding: 0;position: absolute;width: 1px;}#sk-container-id-13 div.sk-estimator {font-family: monospace;background-color: #f0f8ff;border: 1px dotted black;border-radius: 0.25em;box-sizing: border-box;margin-bottom: 0.5em;}#sk-container-id-13 div.sk-estimator:hover {background-color: #d4ebff;}#sk-container-id-13 div.sk-parallel-item::after {content: \"\";width: 100%;border-bottom: 1px solid gray;flex-grow: 1;}#sk-container-id-13 div.sk-label:hover label.sk-toggleable__label {background-color: #d4ebff;}#sk-container-id-13 div.sk-serial::before {content: \"\";position: absolute;border-left: 1px solid gray;box-sizing: border-box;top: 0;bottom: 0;left: 50%;z-index: 0;}#sk-container-id-13 div.sk-serial {display: flex;flex-direction: column;align-items: center;background-color: white;padding-right: 0.2em;padding-left: 0.2em;position: relative;}#sk-container-id-13 div.sk-item {position: relative;z-index: 1;}#sk-container-id-13 div.sk-parallel {display: flex;align-items: stretch;justify-content: center;background-color: white;position: relative;}#sk-container-id-13 div.sk-item::before, #sk-container-id-13 div.sk-parallel-item::before {content: \"\";position: absolute;border-left: 1px solid gray;box-sizing: border-box;top: 0;bottom: 0;left: 50%;z-index: -1;}#sk-container-id-13 div.sk-parallel-item {display: flex;flex-direction: column;z-index: 1;position: relative;background-color: white;}#sk-container-id-13 div.sk-parallel-item:first-child::after {align-self: flex-end;width: 50%;}#sk-container-id-13 div.sk-parallel-item:last-child::after {align-self: flex-start;width: 50%;}#sk-container-id-13 div.sk-parallel-item:only-child::after {width: 0;}#sk-container-id-13 div.sk-dashed-wrapped {border: 1px dashed gray;margin: 0 0.4em 0.5em 0.4em;box-sizing: border-box;padding-bottom: 0.4em;background-color: white;}#sk-container-id-13 div.sk-label label {font-family: monospace;font-weight: bold;display: inline-block;line-height: 1.2em;}#sk-container-id-13 div.sk-label-container {text-align: center;}#sk-container-id-13 div.sk-container {/* jupyter's `normalize.less` sets `[hidden] { display: none; }` but bootstrap.min.css set `[hidden] { display: none !important; }` so we also need the `!important` here to be able to override the default hidden behavior on the sphinx rendered scikit-learn.org. See: https://github.com/scikit-learn/scikit-learn/issues/21755 */display: inline-block !important;position: relative;}#sk-container-id-13 div.sk-text-repr-fallback {display: none;}</style><div id=\"sk-container-id-13\" class=\"sk-top-container\"><div class=\"sk-text-repr-fallback\"><pre>VotingClassifier(estimators=[(&#x27;lr&#x27;, LogisticRegression(random_state=42)),\n",
              "                             (&#x27;svc&#x27;, SVC(probability=True, random_state=42)),\n",
              "                             (&#x27;bag_dt&#x27;,\n",
              "                              BaggingClassifier(estimator=DecisionTreeClassifier(random_state=42),\n",
              "                                                max_features=0.9,\n",
              "                                                max_samples=0.9,\n",
              "                                                n_estimators=200,\n",
              "                                                oob_score=True,\n",
              "                                                random_state=42))],\n",
              "                 voting=&#x27;soft&#x27;)</pre><b>In a Jupyter environment, please rerun this cell to show the HTML representation or trust the notebook. <br />On GitHub, the HTML representation is unable to render, please try loading this page with nbviewer.org.</b></div><div class=\"sk-container\" hidden><div class=\"sk-item sk-dashed-wrapped\"><div class=\"sk-label-container\"><div class=\"sk-label sk-toggleable\"><input class=\"sk-toggleable__control sk-hidden--visually\" id=\"sk-estimator-id-58\" type=\"checkbox\" ><label for=\"sk-estimator-id-58\" class=\"sk-toggleable__label sk-toggleable__label-arrow\">VotingClassifier</label><div class=\"sk-toggleable__content\"><pre>VotingClassifier(estimators=[(&#x27;lr&#x27;, LogisticRegression(random_state=42)),\n",
              "                             (&#x27;svc&#x27;, SVC(probability=True, random_state=42)),\n",
              "                             (&#x27;bag_dt&#x27;,\n",
              "                              BaggingClassifier(estimator=DecisionTreeClassifier(random_state=42),\n",
              "                                                max_features=0.9,\n",
              "                                                max_samples=0.9,\n",
              "                                                n_estimators=200,\n",
              "                                                oob_score=True,\n",
              "                                                random_state=42))],\n",
              "                 voting=&#x27;soft&#x27;)</pre></div></div></div><div class=\"sk-parallel\"><div class=\"sk-parallel-item\"><div class=\"sk-item\"><div class=\"sk-label-container\"><div class=\"sk-label sk-toggleable\"><label>lr</label></div></div><div class=\"sk-serial\"><div class=\"sk-item\"><div class=\"sk-estimator sk-toggleable\"><input class=\"sk-toggleable__control sk-hidden--visually\" id=\"sk-estimator-id-59\" type=\"checkbox\" ><label for=\"sk-estimator-id-59\" class=\"sk-toggleable__label sk-toggleable__label-arrow\">LogisticRegression</label><div class=\"sk-toggleable__content\"><pre>LogisticRegression(random_state=42)</pre></div></div></div></div></div></div><div class=\"sk-parallel-item\"><div class=\"sk-item\"><div class=\"sk-label-container\"><div class=\"sk-label sk-toggleable\"><label>svc</label></div></div><div class=\"sk-serial\"><div class=\"sk-item\"><div class=\"sk-estimator sk-toggleable\"><input class=\"sk-toggleable__control sk-hidden--visually\" id=\"sk-estimator-id-60\" type=\"checkbox\" ><label for=\"sk-estimator-id-60\" class=\"sk-toggleable__label sk-toggleable__label-arrow\">SVC</label><div class=\"sk-toggleable__content\"><pre>SVC(probability=True, random_state=42)</pre></div></div></div></div></div></div><div class=\"sk-parallel-item\"><div class=\"sk-item\"><div class=\"sk-label-container\"><div class=\"sk-label sk-toggleable\"><label>bag_dt</label></div></div><div class=\"sk-serial\"><div class=\"sk-item sk-dashed-wrapped\"><div class=\"sk-parallel\"><div class=\"sk-parallel-item\"><div class=\"sk-item\"><div class=\"sk-label-container\"><div class=\"sk-label sk-toggleable\"><input class=\"sk-toggleable__control sk-hidden--visually\" id=\"sk-estimator-id-61\" type=\"checkbox\" ><label for=\"sk-estimator-id-61\" class=\"sk-toggleable__label sk-toggleable__label-arrow\">estimator: DecisionTreeClassifier</label><div class=\"sk-toggleable__content\"><pre>DecisionTreeClassifier(random_state=42)</pre></div></div></div><div class=\"sk-serial\"><div class=\"sk-item\"><div class=\"sk-estimator sk-toggleable\"><input class=\"sk-toggleable__control sk-hidden--visually\" id=\"sk-estimator-id-62\" type=\"checkbox\" ><label for=\"sk-estimator-id-62\" class=\"sk-toggleable__label sk-toggleable__label-arrow\">DecisionTreeClassifier</label><div class=\"sk-toggleable__content\"><pre>DecisionTreeClassifier(random_state=42)</pre></div></div></div></div></div></div></div></div></div></div></div></div></div></div></div>"
            ],
            "text/plain": [
              "VotingClassifier(estimators=[('lr', LogisticRegression(random_state=42)),\n",
              "                             ('svc', SVC(probability=True, random_state=42)),\n",
              "                             ('bag_dt',\n",
              "                              BaggingClassifier(estimator=DecisionTreeClassifier(random_state=42),\n",
              "                                                max_features=0.9,\n",
              "                                                max_samples=0.9,\n",
              "                                                n_estimators=200,\n",
              "                                                oob_score=True,\n",
              "                                                random_state=42))],\n",
              "                 voting='soft')"
            ]
          },
          "execution_count": 72,
          "metadata": {},
          "output_type": "execute_result"
        }
      ],
      "source": [
        "# Bagging으로 결정 트리 설정 (OOB 평가 활성화)\n",
        "bagged_dt = BaggingClassifier(\n",
        "    DecisionTreeClassifier(random_state=42),\n",
        "    n_estimators=200,\n",
        "    max_samples=0.9, max_features=0.9,\n",
        "    oob_score=True,\n",
        "    random_state=42)\n",
        "\n",
        "# 간접 투표 방식의 앙상블 모델\n",
        "voting_clf = VotingClassifier(\n",
        "    estimators=[\n",
        "        ('lr', LogisticRegression(random_state=42)),\n",
        "        ('svc', SVC(probability=True, random_state=42)),\n",
        "        ('bag_dt', bagged_dt)\n",
        "    ],\n",
        "    voting = 'soft'\n",
        ")\n",
        "\n",
        "voting_clf.fit(X_train, y_train)"
      ]
    },
    {
      "cell_type": "code",
      "execution_count": 73,
      "metadata": {
        "colab": {
          "base_uri": "https://localhost:8080/"
        },
        "id": "21jgNoo_d-Yp",
        "outputId": "95d0af85-5ed1-4032-e776-8e9988277f1b"
      },
      "outputs": [
        {
          "name": "stdout",
          "output_type": "stream",
          "text": [
            "Ensemble test accuracy: 0.86\n"
          ]
        }
      ],
      "source": [
        "# 전체 테스트 세트에 대한 앙상블 모델의 정확도\n",
        "print(f'Ensemble test accuracy: {voting_clf.score(X_test, y_test):.2f}')"
      ]
    },
    {
      "cell_type": "code",
      "execution_count": 74,
      "metadata": {
        "colab": {
          "base_uri": "https://localhost:8080/"
        },
        "id": "mtgI1Zaad_-S",
        "outputId": "a094d4c5-0c98-4e67-a7db-05be195aed0a"
      },
      "outputs": [
        {
          "name": "stdout",
          "output_type": "stream",
          "text": [
            "lr accuracy: 0.84\n",
            "svc accuracy: 0.86\n",
            "bag_dt OOB accuracy: 0.77\n",
            "bag_dt accuracy: 0.76\n"
          ]
        }
      ],
      "source": [
        "# 개별 모델의 테스트 세트에 대한 정확도 확인\n",
        "for name, clf in voting_clf.named_estimators_.items():\n",
        "  if name == 'bag_dt':\n",
        "    print(f\"{name} OOB accuracy: {clf.oob_score_:.2f}\")  # OOB 평가 결과 출력\n",
        "  print(f'{name} accuracy: {clf.score(X_test, y_test):.2f}')"
      ]
    },
    {
      "cell_type": "code",
      "execution_count": 75,
      "metadata": {
        "colab": {
          "base_uri": "https://localhost:8080/"
        },
        "id": "h3WqOjM9eDvD",
        "outputId": "86fedd26-d764-4884-cbd1-682cb4d18623"
      },
      "outputs": [
        {
          "name": "stdout",
          "output_type": "stream",
          "text": [
            "Ensemble prediction : [1]\n",
            "Logistic prediction : [1]\n",
            "SVC prediction : [1]\n",
            "Bag_DT prediction : [0]\n"
          ]
        }
      ],
      "source": [
        "# 앙상블 모델의 테스트 데이터의 첫번째 샘플에 대한 예측 진행\n",
        "print(f'Ensemble prediction : {voting_clf.predict(X_test[:1])}')\n",
        "\n",
        "# 개별 모델을 사용하여 첫번째 샘플에 대한 예측 진행\n",
        "results = [clf.predict(X_test[:1]) for clf in voting_clf.estimators_]\n",
        "print(f'Logistic prediction : {results[0]}')\n",
        "print(f'SVC prediction : {results[1]}')\n",
        "print(f'Bag_DT prediction : {results[2]}')"
      ]
    },
    {
      "cell_type": "markdown",
      "metadata": {
        "id": "rUNZGcdTfD28"
      },
      "source": [
        "### **실험 5. 랜덤 서브스페이스 방식의 특성 샘플링을 적용**\n",
        "\n",
        "- LogisticRegression\n",
        "- SVM\n",
        "- Bagging을 적용한 Decision Tree\n",
        "  - n_estimator : 200\n",
        "  - 랜덤 서브스페이스 방식\n",
        "    - max_samples : 1.0\n",
        "    - max_features : 0.9"
      ]
    },
    {
      "cell_type": "code",
      "execution_count": 76,
      "metadata": {
        "colab": {
          "base_uri": "https://localhost:8080/",
          "height": 151
        },
        "id": "3Cn1cHz9eiKH",
        "outputId": "651d9564-5008-48b3-ffeb-a066e7a6cf3c"
      },
      "outputs": [
        {
          "data": {
            "text/html": [
              "<style>#sk-container-id-14 {color: black;background-color: white;}#sk-container-id-14 pre{padding: 0;}#sk-container-id-14 div.sk-toggleable {background-color: white;}#sk-container-id-14 label.sk-toggleable__label {cursor: pointer;display: block;width: 100%;margin-bottom: 0;padding: 0.3em;box-sizing: border-box;text-align: center;}#sk-container-id-14 label.sk-toggleable__label-arrow:before {content: \"▸\";float: left;margin-right: 0.25em;color: #696969;}#sk-container-id-14 label.sk-toggleable__label-arrow:hover:before {color: black;}#sk-container-id-14 div.sk-estimator:hover label.sk-toggleable__label-arrow:before {color: black;}#sk-container-id-14 div.sk-toggleable__content {max-height: 0;max-width: 0;overflow: hidden;text-align: left;background-color: #f0f8ff;}#sk-container-id-14 div.sk-toggleable__content pre {margin: 0.2em;color: black;border-radius: 0.25em;background-color: #f0f8ff;}#sk-container-id-14 input.sk-toggleable__control:checked~div.sk-toggleable__content {max-height: 200px;max-width: 100%;overflow: auto;}#sk-container-id-14 input.sk-toggleable__control:checked~label.sk-toggleable__label-arrow:before {content: \"▾\";}#sk-container-id-14 div.sk-estimator input.sk-toggleable__control:checked~label.sk-toggleable__label {background-color: #d4ebff;}#sk-container-id-14 div.sk-label input.sk-toggleable__control:checked~label.sk-toggleable__label {background-color: #d4ebff;}#sk-container-id-14 input.sk-hidden--visually {border: 0;clip: rect(1px 1px 1px 1px);clip: rect(1px, 1px, 1px, 1px);height: 1px;margin: -1px;overflow: hidden;padding: 0;position: absolute;width: 1px;}#sk-container-id-14 div.sk-estimator {font-family: monospace;background-color: #f0f8ff;border: 1px dotted black;border-radius: 0.25em;box-sizing: border-box;margin-bottom: 0.5em;}#sk-container-id-14 div.sk-estimator:hover {background-color: #d4ebff;}#sk-container-id-14 div.sk-parallel-item::after {content: \"\";width: 100%;border-bottom: 1px solid gray;flex-grow: 1;}#sk-container-id-14 div.sk-label:hover label.sk-toggleable__label {background-color: #d4ebff;}#sk-container-id-14 div.sk-serial::before {content: \"\";position: absolute;border-left: 1px solid gray;box-sizing: border-box;top: 0;bottom: 0;left: 50%;z-index: 0;}#sk-container-id-14 div.sk-serial {display: flex;flex-direction: column;align-items: center;background-color: white;padding-right: 0.2em;padding-left: 0.2em;position: relative;}#sk-container-id-14 div.sk-item {position: relative;z-index: 1;}#sk-container-id-14 div.sk-parallel {display: flex;align-items: stretch;justify-content: center;background-color: white;position: relative;}#sk-container-id-14 div.sk-item::before, #sk-container-id-14 div.sk-parallel-item::before {content: \"\";position: absolute;border-left: 1px solid gray;box-sizing: border-box;top: 0;bottom: 0;left: 50%;z-index: -1;}#sk-container-id-14 div.sk-parallel-item {display: flex;flex-direction: column;z-index: 1;position: relative;background-color: white;}#sk-container-id-14 div.sk-parallel-item:first-child::after {align-self: flex-end;width: 50%;}#sk-container-id-14 div.sk-parallel-item:last-child::after {align-self: flex-start;width: 50%;}#sk-container-id-14 div.sk-parallel-item:only-child::after {width: 0;}#sk-container-id-14 div.sk-dashed-wrapped {border: 1px dashed gray;margin: 0 0.4em 0.5em 0.4em;box-sizing: border-box;padding-bottom: 0.4em;background-color: white;}#sk-container-id-14 div.sk-label label {font-family: monospace;font-weight: bold;display: inline-block;line-height: 1.2em;}#sk-container-id-14 div.sk-label-container {text-align: center;}#sk-container-id-14 div.sk-container {/* jupyter's `normalize.less` sets `[hidden] { display: none; }` but bootstrap.min.css set `[hidden] { display: none !important; }` so we also need the `!important` here to be able to override the default hidden behavior on the sphinx rendered scikit-learn.org. See: https://github.com/scikit-learn/scikit-learn/issues/21755 */display: inline-block !important;position: relative;}#sk-container-id-14 div.sk-text-repr-fallback {display: none;}</style><div id=\"sk-container-id-14\" class=\"sk-top-container\"><div class=\"sk-text-repr-fallback\"><pre>VotingClassifier(estimators=[(&#x27;lr&#x27;, LogisticRegression(random_state=42)),\n",
              "                             (&#x27;svc&#x27;, SVC(probability=True, random_state=42)),\n",
              "                             (&#x27;bag_dt&#x27;,\n",
              "                              BaggingClassifier(estimator=DecisionTreeClassifier(random_state=42),\n",
              "                                                max_features=0.9,\n",
              "                                                n_estimators=200,\n",
              "                                                oob_score=True,\n",
              "                                                random_state=42))],\n",
              "                 voting=&#x27;soft&#x27;)</pre><b>In a Jupyter environment, please rerun this cell to show the HTML representation or trust the notebook. <br />On GitHub, the HTML representation is unable to render, please try loading this page with nbviewer.org.</b></div><div class=\"sk-container\" hidden><div class=\"sk-item sk-dashed-wrapped\"><div class=\"sk-label-container\"><div class=\"sk-label sk-toggleable\"><input class=\"sk-toggleable__control sk-hidden--visually\" id=\"sk-estimator-id-63\" type=\"checkbox\" ><label for=\"sk-estimator-id-63\" class=\"sk-toggleable__label sk-toggleable__label-arrow\">VotingClassifier</label><div class=\"sk-toggleable__content\"><pre>VotingClassifier(estimators=[(&#x27;lr&#x27;, LogisticRegression(random_state=42)),\n",
              "                             (&#x27;svc&#x27;, SVC(probability=True, random_state=42)),\n",
              "                             (&#x27;bag_dt&#x27;,\n",
              "                              BaggingClassifier(estimator=DecisionTreeClassifier(random_state=42),\n",
              "                                                max_features=0.9,\n",
              "                                                n_estimators=200,\n",
              "                                                oob_score=True,\n",
              "                                                random_state=42))],\n",
              "                 voting=&#x27;soft&#x27;)</pre></div></div></div><div class=\"sk-parallel\"><div class=\"sk-parallel-item\"><div class=\"sk-item\"><div class=\"sk-label-container\"><div class=\"sk-label sk-toggleable\"><label>lr</label></div></div><div class=\"sk-serial\"><div class=\"sk-item\"><div class=\"sk-estimator sk-toggleable\"><input class=\"sk-toggleable__control sk-hidden--visually\" id=\"sk-estimator-id-64\" type=\"checkbox\" ><label for=\"sk-estimator-id-64\" class=\"sk-toggleable__label sk-toggleable__label-arrow\">LogisticRegression</label><div class=\"sk-toggleable__content\"><pre>LogisticRegression(random_state=42)</pre></div></div></div></div></div></div><div class=\"sk-parallel-item\"><div class=\"sk-item\"><div class=\"sk-label-container\"><div class=\"sk-label sk-toggleable\"><label>svc</label></div></div><div class=\"sk-serial\"><div class=\"sk-item\"><div class=\"sk-estimator sk-toggleable\"><input class=\"sk-toggleable__control sk-hidden--visually\" id=\"sk-estimator-id-65\" type=\"checkbox\" ><label for=\"sk-estimator-id-65\" class=\"sk-toggleable__label sk-toggleable__label-arrow\">SVC</label><div class=\"sk-toggleable__content\"><pre>SVC(probability=True, random_state=42)</pre></div></div></div></div></div></div><div class=\"sk-parallel-item\"><div class=\"sk-item\"><div class=\"sk-label-container\"><div class=\"sk-label sk-toggleable\"><label>bag_dt</label></div></div><div class=\"sk-serial\"><div class=\"sk-item sk-dashed-wrapped\"><div class=\"sk-parallel\"><div class=\"sk-parallel-item\"><div class=\"sk-item\"><div class=\"sk-label-container\"><div class=\"sk-label sk-toggleable\"><input class=\"sk-toggleable__control sk-hidden--visually\" id=\"sk-estimator-id-66\" type=\"checkbox\" ><label for=\"sk-estimator-id-66\" class=\"sk-toggleable__label sk-toggleable__label-arrow\">estimator: DecisionTreeClassifier</label><div class=\"sk-toggleable__content\"><pre>DecisionTreeClassifier(random_state=42)</pre></div></div></div><div class=\"sk-serial\"><div class=\"sk-item\"><div class=\"sk-estimator sk-toggleable\"><input class=\"sk-toggleable__control sk-hidden--visually\" id=\"sk-estimator-id-67\" type=\"checkbox\" ><label for=\"sk-estimator-id-67\" class=\"sk-toggleable__label sk-toggleable__label-arrow\">DecisionTreeClassifier</label><div class=\"sk-toggleable__content\"><pre>DecisionTreeClassifier(random_state=42)</pre></div></div></div></div></div></div></div></div></div></div></div></div></div></div></div>"
            ],
            "text/plain": [
              "VotingClassifier(estimators=[('lr', LogisticRegression(random_state=42)),\n",
              "                             ('svc', SVC(probability=True, random_state=42)),\n",
              "                             ('bag_dt',\n",
              "                              BaggingClassifier(estimator=DecisionTreeClassifier(random_state=42),\n",
              "                                                max_features=0.9,\n",
              "                                                n_estimators=200,\n",
              "                                                oob_score=True,\n",
              "                                                random_state=42))],\n",
              "                 voting='soft')"
            ]
          },
          "execution_count": 76,
          "metadata": {},
          "output_type": "execute_result"
        }
      ],
      "source": [
        "# Bagging으로 결정 트리 설정 (OOB 평가 활성화)\n",
        "bagged_dt = BaggingClassifier(\n",
        "    DecisionTreeClassifier(random_state=42),\n",
        "    n_estimators=200,\n",
        "    max_samples=1.0, max_features=0.9,\n",
        "    oob_score=True,\n",
        "    random_state=42)\n",
        "\n",
        "# 간접 투표 방식의 앙상블 모델\n",
        "voting_clf = VotingClassifier(\n",
        "    estimators=[\n",
        "        ('lr', LogisticRegression(random_state=42)),\n",
        "        ('svc', SVC(probability=True, random_state=42)),\n",
        "        ('bag_dt', bagged_dt)\n",
        "    ],\n",
        "    voting = 'soft'\n",
        ")\n",
        "\n",
        "voting_clf.fit(X_train, y_train)"
      ]
    },
    {
      "cell_type": "code",
      "execution_count": 77,
      "metadata": {
        "colab": {
          "base_uri": "https://localhost:8080/"
        },
        "id": "jWyoTR0Wfnsy",
        "outputId": "106d170a-e022-428e-feb0-bb3d831982ea"
      },
      "outputs": [
        {
          "name": "stdout",
          "output_type": "stream",
          "text": [
            "Ensemble test accuracy: 0.86\n"
          ]
        }
      ],
      "source": [
        "# 전체 테스트 세트에 대한 앙상블 모델의 정확도\n",
        "print(f'Ensemble test accuracy: {voting_clf.score(X_test, y_test):.2f}')"
      ]
    },
    {
      "cell_type": "code",
      "execution_count": 78,
      "metadata": {
        "colab": {
          "base_uri": "https://localhost:8080/"
        },
        "id": "Hbd_zJBbfruf",
        "outputId": "824d57ed-74ec-49cf-cb6d-d880213c8bd7"
      },
      "outputs": [
        {
          "name": "stdout",
          "output_type": "stream",
          "text": [
            "lr accuracy: 0.84\n",
            "svc accuracy: 0.86\n",
            "bag_dt OOB accuracy: 0.76\n",
            "bag_dt accuracy: 0.75\n"
          ]
        }
      ],
      "source": [
        "# 개별 모델의 테스트 세트에 대한 정확도 확인\n",
        "for name, clf in voting_clf.named_estimators_.items():\n",
        "  if name == 'bag_dt':\n",
        "    print(f\"{name} OOB accuracy: {clf.oob_score_:.2f}\")  # OOB 평가 결과 출력\n",
        "  print(f'{name} accuracy: {clf.score(X_test, y_test):.2f}')"
      ]
    },
    {
      "cell_type": "code",
      "execution_count": 81,
      "metadata": {
        "colab": {
          "base_uri": "https://localhost:8080/"
        },
        "id": "KRVEDHzmfs_j",
        "outputId": "1f41e25e-7039-4b94-e06e-906a77553e92"
      },
      "outputs": [
        {
          "name": "stdout",
          "output_type": "stream",
          "text": [
            "Ensemble prediction : [1]\n",
            "Logistic prediction : [1]\n",
            "SVC prediction : [1]\n",
            "Bag_DT prediction : [0]\n"
          ]
        }
      ],
      "source": [
        "# 앙상블 모델의 테스트 데이터의 첫번째 샘플에 대한 예측 진행\n",
        "print(f'Ensemble prediction : {voting_clf.predict(X_test[:1])}')\n",
        "\n",
        "# 개별 모델을 사용하여 첫번째 샘플에 대한 예측 진행\n",
        "results = [clf.predict(X_test[:1]) for clf in voting_clf.estimators_]\n",
        "print(f'Logistic prediction : {results[0]}')\n",
        "print(f'SVC prediction : {results[1]}')\n",
        "print(f'Bag_DT prediction : {results[2]}')"
      ]
    },
    {
      "cell_type": "markdown",
      "metadata": {
        "id": "Ar3sodF5gZpi"
      },
      "source": [
        "### **결과분석**\n",
        "\n",
        "실험 3의 결과가 가장 좋은 성능을 보였다.\n",
        "\n",
        "실험 3의 앙상블 방법과 파라미터 조합은 다음과 같다.\n",
        "\n",
        "- LogisticRegression\n",
        "- SVM\n",
        "- Bagging을 적용한 Decision Tree\n",
        "  - n_estimator : 200\n",
        "  - 랜덤 패치 방식으로 특성 샘플링 진행\n",
        "    - max_samples : 0.8\n",
        "    - max_features : 0.8\n",
        "\n",
        "<br>\n",
        "전체 테스트 세트에 대한 앙상블 모델의 정확도는 0.86으로, 실험 4, 실험5의 정확도와 같게 나왔지만, 개별 모델의 테스트 세트에 대한 정확도 평가에서 Decision Tree의 OOB 정확도가 실험 3에서 가장 높게 나왔다. <br> 실험 3 에서는 bag_dt의 OOB 정확도가 0.78, bag_dt의 테스트 정확도는 0.76이 나왔고, 이를 통해 실험 3의 모델이 학습과정에서 사용되지 않은 외부 데이터셋에서 일반화를 더 잘 한다는 것을 알 수 있다. <br>\n",
        "실험 4, 5 에서도 모두 bag_dt에 대한 OOB 정확도가 테스트 정확도 보다 높아 실험 3,4,5 모두 학습 데이터에 과대적합되지 않음을 알 수 있었지만, 그 중에서 실험 3의 OOB 정확도가 가장 높았으므로 실험 3의 결과가 가장 성능이 좋았음을 알 수 있었다."
      ]
    }
  ],
  "metadata": {
    "colab": {
      "provenance": []
    },
    "kernelspec": {
      "display_name": "Python 3",
      "name": "python3"
    },
    "language_info": {
      "name": "python"
    }
  },
  "nbformat": 4,
  "nbformat_minor": 0
}
