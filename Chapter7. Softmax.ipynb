{
  "nbformat": 4,
  "nbformat_minor": 0,
  "metadata": {
    "colab": {
      "provenance": []
    },
    "kernelspec": {
      "name": "python3",
      "display_name": "Python 3"
    },
    "language_info": {
      "name": "python"
    }
  },
  "cells": [
    {
      "cell_type": "markdown",
      "source": [
        "# Chapter 7. 다중분류(Softmax) - Iris 붓꽃 데이터 분류"
      ],
      "metadata": {
        "id": "A190tWoh5tWp"
      }
    },
    {
      "cell_type": "markdown",
      "source": [
        "## [실습내용]\n",
        ": Iris 붓꽃 데이터의 꽃받침(Sepal), 꽃잎(Petal) feature를 바탕으로 Setosa, Virginica, Versicolor 3가지 종류로 분류하기\n",
        "\n",
        "- 붓꽃 종류는 꽃받침(Sepal), 꽃잎(Petal)의 길이와 폭에 따라 종류가 나뉨\n",
        "- Scikit-learn에서 제공하는 Iris 데이터에서는 품종당 50개의 샘플이 주어지고, 각 샘플은 4개의 feature, 3개의 레이블로 구성된 데이터"
      ],
      "metadata": {
        "id": "iXaiKDay6G9O"
      }
    },
    {
      "cell_type": "code",
      "source": [
        "import numpy as np\n",
        "import matplotlib.pyplot as plt\n",
        "import tensorflow as tf\n",
        "import keras\n",
        "from keras import Sequential\n",
        "from keras.layers import Dense"
      ],
      "metadata": {
        "id": "i5IVJT9M8O_2"
      },
      "execution_count": null,
      "outputs": []
    },
    {
      "cell_type": "markdown",
      "source": [
        "#### 1. 데이터 생성"
      ],
      "metadata": {
        "id": "6Ts2bmRf-UDX"
      }
    },
    {
      "cell_type": "code",
      "source": [
        "# Scikit Learn에서 iris 데이터셋 로드\n",
        "\n",
        "from sklearn.datasets import load_iris\n",
        "data = load_iris()\n",
        "\n",
        "print(data.keys())\n",
        "# feature 이름\n",
        "print(data.feature_names)\n",
        "# target(label) 이름\n",
        "print(data.target_names)"
      ],
      "metadata": {
        "colab": {
          "base_uri": "https://localhost:8080/"
        },
        "id": "u7NDQvER5v9A",
        "outputId": "f2799df7-f770-4e35-a219-ad484c7a0bfc"
      },
      "execution_count": null,
      "outputs": [
        {
          "output_type": "stream",
          "name": "stdout",
          "text": [
            "dict_keys(['data', 'target', 'frame', 'target_names', 'DESCR', 'feature_names', 'filename', 'data_module'])\n",
            "['sepal length (cm)', 'sepal width (cm)', 'petal length (cm)', 'petal width (cm)']\n",
            "['setosa' 'versicolor' 'virginica']\n"
          ]
        }
      ]
    },
    {
      "cell_type": "markdown",
      "source": [
        "데이터 셋 feature : sepal length (cm), sepal width (cm), petal length (cm), petal width (cm) <br>\n",
        "\n",
        "데이터 셋 label: setosa, versicolor, virginica"
      ],
      "metadata": {
        "id": "Ig87nyrV7ud-"
      }
    },
    {
      "cell_type": "code",
      "source": [
        "# input, label 데이터 지정\n",
        "x = data.data\n",
        "y = data.target\n",
        "\n",
        "print(x.shape)\n",
        "print(x[0:5,:])\n",
        "print(y.shape)\n",
        "print(y[0:5])"
      ],
      "metadata": {
        "colab": {
          "base_uri": "https://localhost:8080/"
        },
        "id": "SdFouFQ07MU9",
        "outputId": "f630718e-c44e-461b-940b-a5da3bce9f77"
      },
      "execution_count": null,
      "outputs": [
        {
          "output_type": "stream",
          "name": "stdout",
          "text": [
            "(150, 4)\n",
            "[[5.1 3.5 1.4 0.2]\n",
            " [4.9 3.  1.4 0.2]\n",
            " [4.7 3.2 1.3 0.2]\n",
            " [4.6 3.1 1.5 0.2]\n",
            " [5.  3.6 1.4 0.2]]\n",
            "(150,)\n",
            "[0 0 0 0 0]\n"
          ]
        }
      ]
    },
    {
      "cell_type": "code",
      "source": [
        "# 데이터 시각화 - petal length, petal width\n",
        "\n",
        "x0 = x[y==0]\n",
        "x1 = x[y==1]\n",
        "x2 = x[y==2]\n",
        "\n",
        "plt.scatter(x0[:,2], x0[:,3], label='Setosa')\n",
        "plt.scatter(x1[:,2], x1[:,3], label='Versicolor')\n",
        "plt.scatter(x2[:,2], x2[:,3], label='Virginica')\n",
        "plt.legend()\n",
        "plt.xlabel('Petal length')\n",
        "plt.ylabel('Petal width')\n",
        "plt.show()"
      ],
      "metadata": {
        "colab": {
          "base_uri": "https://localhost:8080/",
          "height": 449
        },
        "id": "ECD-qMhD7iMB",
        "outputId": "5ace98c7-7c6f-4cb0-f3ae-8206153953c4"
      },
      "execution_count": null,
      "outputs": [
        {
          "output_type": "display_data",
          "data": {
            "text/plain": [
              "<Figure size 640x480 with 1 Axes>"
            ],
            "image/png": "[encoded data removed]"
          },
          "metadata": {}
        }
      ]
    },
    {
      "cell_type": "code",
      "source": [
        "# 훈련 데이터, 테스트 데이터 분리 (stratified sampling 사용)\n",
        "\n",
        "from sklearn.model_selection import train_test_split\n",
        "\n",
        "# 150개 데이터 중 20%를 테스트 데이터로 분리, y값에 따라 각 품종에서 10개씩 테스트 데이터 샘플링\n",
        "x_train, x_test, y_train, y_test = train_test_split(x,y,test_size=0.2, stratify=y)\n",
        "\n",
        "print(x_train.shape, x_test.shape)\n",
        "print(y_train.shape, y_test.shape)"
      ],
      "metadata": {
        "colab": {
          "base_uri": "https://localhost:8080/"
        },
        "id": "anLMMyqh8rAo",
        "outputId": "86b7ac80-5eaa-44d3-a89c-d3f61ce36c6a"
      },
      "execution_count": null,
      "outputs": [
        {
          "output_type": "stream",
          "name": "stdout",
          "text": [
            "(120, 4) (30, 4)\n",
            "(120,) (30,)\n"
          ]
        }
      ]
    },
    {
      "cell_type": "code",
      "source": [
        "# 원핫 인코딩 - 각 레이블 값을 원핫 인코딩으로 [1,0,0], [0,1,0], [0,0,1]으로 변환\n",
        "y_train= tf.one_hot(y_train,3)\n",
        "y_test = tf.one_hot(y_test,3)\n",
        "\n",
        "print(y_train.shape)\n",
        "print(y_test.shape)"
      ],
      "metadata": {
        "colab": {
          "base_uri": "https://localhost:8080/"
        },
        "id": "IYeqDyH79Kx8",
        "outputId": "3d0322c1-fc6c-4186-a0bb-b3bd119d78cf"
      },
      "execution_count": null,
      "outputs": [
        {
          "output_type": "stream",
          "name": "stdout",
          "text": [
            "(120, 3)\n",
            "(30, 3)\n"
          ]
        }
      ]
    },
    {
      "cell_type": "markdown",
      "source": [
        "#### 2. 모델 정의\n",
        "\n",
        "- 은닉층 2개(노드:10), 출력층 1개 (노드:3)의 구조\n",
        "- 다중분류(3가지로 분류)를 위해 출력층 활성화 함수는 softmax를 사용"
      ],
      "metadata": {
        "id": "KOwfv3mF-ZQr"
      }
    },
    {
      "cell_type": "code",
      "source": [
        "model = Sequential([\n",
        "    Dense(10, activation = 'relu', input_shape=(4,)),\n",
        "    Dense(10, activation = 'relu'),\n",
        "    Dense(3, activation= 'softmax')\n",
        "])\n",
        "\n",
        "model.summary()"
      ],
      "metadata": {
        "colab": {
          "base_uri": "https://localhost:8080/"
        },
        "id": "wU0ml7l--O0_",
        "outputId": "d09e3c77-552c-4ebf-c7c3-fabe910923c5"
      },
      "execution_count": null,
      "outputs": [
        {
          "output_type": "stream",
          "name": "stdout",
          "text": [
            "Model: \"sequential\"\n",
            "_________________________________________________________________\n",
            " Layer (type)                Output Shape              Param #   \n",
            "=================================================================\n",
            " dense (Dense)               (None, 10)                50        \n",
            "                                                                 \n",
            " dense_1 (Dense)             (None, 10)                110       \n",
            "                                                                 \n",
            " dense_2 (Dense)             (None, 3)                 33        \n",
            "                                                                 \n",
            "=================================================================\n",
            "Total params: 193 (772.00 Byte)\n",
            "Trainable params: 193 (772.00 Byte)\n",
            "Non-trainable params: 0 (0.00 Byte)\n",
            "_________________________________________________________________\n"
          ]
        }
      ]
    },
    {
      "cell_type": "markdown",
      "source": [
        "#### 3. 모델 컴파일 & 훈련"
      ],
      "metadata": {
        "id": "ZGVALJMqC7RU"
      }
    },
    {
      "cell_type": "code",
      "source": [
        "# 모델 컴파일\n",
        "# 최적화 함수는 adam, loss function으로 categorical_crossentropy 사용\n",
        "model.compile(optimizer='adam', loss='categorical_crossentropy', metrics=['acc'])"
      ],
      "metadata": {
        "id": "CStJdiGN_7tR"
      },
      "execution_count": null,
      "outputs": []
    },
    {
      "cell_type": "code",
      "source": [
        "# 모델 훈련\n",
        "history= model.fit(x_train, y_train, validation_data=(x_test,y_test), epochs=300, verbose=1)"
      ],
      "metadata": {
        "id": "hfanhwZSAmkt"
      },
      "execution_count": null,
      "outputs": []
    },
    {
      "cell_type": "markdown",
      "source": [
        "#### 4. 모델 평가"
      ],
      "metadata": {
        "id": "EQ4UFZhgC_wn"
      }
    },
    {
      "cell_type": "code",
      "source": [
        "loss = history.history['loss']\n",
        "val_loss = history.history['val_loss']\n",
        "plt.plot(loss, c='b')\n",
        "plt.plot(val_loss ,c='orange')\n",
        "plt.show()"
      ],
      "metadata": {
        "colab": {
          "base_uri": "https://localhost:8080/",
          "height": 430
        },
        "id": "vj18XxftAxFM",
        "outputId": "7673b5ea-25fe-4cab-97ac-179a88f41fa4"
      },
      "execution_count": null,
      "outputs": [
        {
          "output_type": "display_data",
          "data": {
            "text/plain": [
              "<Figure size 640x480 with 1 Axes>"
            ],
            "image/png": "[encoded data removed]"
          },
          "metadata": {}
        }
      ]
    },
    {
      "cell_type": "code",
      "source": [
        "loss[-1], val_loss[-1]"
      ],
      "metadata": {
        "colab": {
          "base_uri": "https://localhost:8080/"
        },
        "id": "J5d23Jm1MdZ1",
        "outputId": "7781d6de-3d7f-47e2-c7a8-4cd784f954a5"
      },
      "execution_count": null,
      "outputs": [
        {
          "output_type": "execute_result",
          "data": {
            "text/plain": [
              "(0.10116024315357208, 0.07714662700891495)"
            ]
          },
          "metadata": {},
          "execution_count": 23
        }
      ]
    },
    {
      "cell_type": "code",
      "source": [
        "acc = history.history['acc']\n",
        "val_acc = history.history['val_acc']\n",
        "plt.plot(acc, c='b')\n",
        "plt.plot(val_acc, c='orange')\n",
        "plt.show()"
      ],
      "metadata": {
        "colab": {
          "base_uri": "https://localhost:8080/",
          "height": 430
        },
        "id": "dvzZrfewDMBk",
        "outputId": "9ee074f3-7e7d-4e3f-9328-799020a606c2"
      },
      "execution_count": null,
      "outputs": [
        {
          "output_type": "display_data",
          "data": {
            "text/plain": [
              "<Figure size 640x480 with 1 Axes>"
            ],
            "image/png": "[encoded data removed]"
          },
          "metadata": {}
        }
      ]
    },
    {
      "cell_type": "code",
      "source": [
        "acc[-1], val_acc[-1]"
      ],
      "metadata": {
        "colab": {
          "base_uri": "https://localhost:8080/"
        },
        "id": "i2Id4d1pM2_G",
        "outputId": "075791b2-916a-48be-ae76-b4fa78b2c39d"
      },
      "execution_count": null,
      "outputs": [
        {
          "output_type": "execute_result",
          "data": {
            "text/plain": [
              "(0.9750000238418579, 1.0)"
            ]
          },
          "metadata": {},
          "execution_count": 24
        }
      ]
    },
    {
      "cell_type": "code",
      "source": [
        "# test data로 모델 평가\n",
        "model.evaluate(x_train, y_train)\n",
        "loss, accuracy = model.evaluate(x_test, y_test)"
      ],
      "metadata": {
        "colab": {
          "base_uri": "https://localhost:8080/"
        },
        "id": "6lQ6MOQIDblb",
        "outputId": "6a1d081b-2156-45eb-c786-8223feff7c57"
      },
      "execution_count": null,
      "outputs": [
        {
          "output_type": "stream",
          "name": "stdout",
          "text": [
            "4/4 [==============================] - 0s 5ms/step - loss: 0.1007 - acc: 0.9750\n",
            "1/1 [==============================] - 0s 37ms/step - loss: 0.0771 - acc: 1.0000\n"
          ]
        }
      ]
    },
    {
      "cell_type": "code",
      "source": [
        "print(\"Accuracy = {:.2f}\".format(accuracy))\n",
        "print(\"loss = {:.2f}\".format(loss))"
      ],
      "metadata": {
        "colab": {
          "base_uri": "https://localhost:8080/"
        },
        "id": "MDSmRMLSHQ-3",
        "outputId": "3c048885-6297-4cb6-a40c-0672dcec23bc"
      },
      "execution_count": null,
      "outputs": [
        {
          "output_type": "stream",
          "name": "stdout",
          "text": [
            "Accuracy = 1.00\n",
            "loss = 0.08\n"
          ]
        }
      ]
    },
    {
      "cell_type": "markdown",
      "source": [
        "### [결과 분석]\n",
        "\n",
        "Iris 붓꽃 데이터의 꽃받침(Sepal), 꽃잎(Petal)의 4가지 feature를 바탕으로 3가지 종류( Setosa, Virginica, Versicolor)로 붓꽃 분류 작업을 진행하여 training loss와 validation loss, training accuracy, validation accuracy 값을 시각화 해 본 결과, <br>\n",
        "최종 training loss 값은 0.10, validation loss 값은 0.07에 수렴하는 것을 확인할 수 있음.\n",
        "또한, training accuracy는 0.97, validation accuracy는 1.0로 수렴하는 것 또한 확인됨. <br>\n",
        "- train,test 데이터를 나눌 때, 전체 150개 데이터 중 20%를(30개) 테스트 데이터로 분리하여 사용하였고, y값에 따라 각 품종에서 10개씩 테스트 데이터 샘플링을 진행하였음\n",
        "- loss, accuracy 모두 training과정보다 validation을 진행했을 때 더 결과가 좋게 나옴.\n",
        "\n",
        "\n",
        "test 데이터로 evaluation을 진행한 결과, loss 값은 0.08, accuracy는 1.00이 나옴."
      ],
      "metadata": {
        "id": "MFPLHUFLHBmi"
      }
    }
  ]
}