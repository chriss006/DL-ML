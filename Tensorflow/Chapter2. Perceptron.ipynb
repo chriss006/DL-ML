{
  "nbformat": 4,
  "nbformat_minor": 0,
  "metadata": {
    "colab": {
      "provenance": []
    },
    "kernelspec": {
      "name": "python3",
      "display_name": "Python 3"
    },
    "language_info": {
      "name": "python"
    }
  },
  "cells": [
    {
      "cell_type": "markdown",
      "source": [
        "## Chapter 2. 퍼셉트론"
      ],
      "metadata": {
        "id": "O5H5jWNvijJG"
      }
    },
    {
      "cell_type": "code",
      "source": [
        "import numpy as np\n",
        "import matplotlib.pyplot as plt"
      ],
      "metadata": {
        "id": "LoHGCr1EtXs8"
      },
      "execution_count": null,
      "outputs": []
    },
    {
      "cell_type": "markdown",
      "source": [
        "## 실습1 : 퍼셉트론 구현하기\n",
        "\n",
        "### 실습내용:\n",
        "    1. AND, NAND, OR 게이트 함수를 구현하고 동작을 확인\n",
        "    2. AND, NAND, OR 게이트 함수로 2층 퍼셉트론을 구현하고 XOR 동작을 확인"
      ],
      "metadata": {
        "id": "aYpUAG_cq1Gb"
      }
    },
    {
      "cell_type": "markdown",
      "source": [
        "###1)  AND, NAND, OR 게이트 함수를 구현하고 동작을 확인"
      ],
      "metadata": {
        "id": "1bl4sB9Vwrci"
      }
    },
    {
      "cell_type": "code",
      "source": [
        "# 1. AND 게이트\n",
        "\n",
        "def AND(x1, x2):\n",
        "  x = np.array([x1,x2])\n",
        "  w = np.array([0.5, 0.5])\n",
        "  b = -0.7\n",
        "\n",
        "  tmp = np.sum(w*x) + b\n",
        "  if tmp <= 0:\n",
        "    return 0\n",
        "  else:\n",
        "    return 1"
      ],
      "metadata": {
        "id": "4o7Yy7dsq0W8"
      },
      "execution_count": null,
      "outputs": []
    },
    {
      "cell_type": "code",
      "source": [
        "# AND 게이트 확인\n",
        "x1 = [0, 1, 0, 1]\n",
        "x2 = [0 ,0, 1, 1]\n",
        "\n",
        "for i in range(4):\n",
        "  y = AND(x1[i], x2[i])\n",
        "  print(f\"({x1[i]}, {x2[i]}) -> {y}\")"
      ],
      "metadata": {
        "colab": {
          "base_uri": "https://localhost:8080/"
        },
        "id": "7je8jIbyrf79",
        "outputId": "ac551504-acaf-41c9-ad4c-2898712bbb94"
      },
      "execution_count": null,
      "outputs": [
        {
          "output_type": "stream",
          "name": "stdout",
          "text": [
            "(0, 0) -> 0\n",
            "(1, 0) -> 0\n",
            "(0, 1) -> 0\n",
            "(1, 1) -> 1\n"
          ]
        }
      ]
    },
    {
      "cell_type": "code",
      "source": [
        "# 2. NAND 게이트\n",
        "\n",
        "def NAND(x1, x2):\n",
        "  x = np.array([x1,x2])\n",
        "  w = np.array([-0.5, -0.5])\n",
        "  b = 0.7\n",
        "\n",
        "  tmp = np.sum(w*x) + b\n",
        "  if tmp <= 0:\n",
        "    return 0\n",
        "  else:\n",
        "    return 1"
      ],
      "metadata": {
        "id": "7R5-JbAPr1yO"
      },
      "execution_count": null,
      "outputs": []
    },
    {
      "cell_type": "code",
      "source": [
        "# NAND 게이트 확인\n",
        "for i in range(4):\n",
        "  y = NAND(x1[i], x2[i])\n",
        "  print(f\"({x1[i]}, {x2[i]}) -> {y}\")"
      ],
      "metadata": {
        "colab": {
          "base_uri": "https://localhost:8080/"
        },
        "id": "LyKe0-IgvBgj",
        "outputId": "c1cfe133-ced9-48f1-d910-9d94834837ec"
      },
      "execution_count": null,
      "outputs": [
        {
          "output_type": "stream",
          "name": "stdout",
          "text": [
            "(0, 0) -> 1\n",
            "(1, 0) -> 1\n",
            "(0, 1) -> 1\n",
            "(1, 1) -> 0\n"
          ]
        }
      ]
    },
    {
      "cell_type": "code",
      "source": [
        "# 3. OR 게이트\n",
        "def OR(x1, x2):\n",
        "  x = np.array([x1,x2])\n",
        "  w = np.array([0.5, 0.5])\n",
        "  b = -0.2\n",
        "\n",
        "  tmp = np.sum(w*x) + b\n",
        "  if tmp <= 0:\n",
        "    return 0\n",
        "  else:\n",
        "    return 1"
      ],
      "metadata": {
        "id": "KyQTJfOtvLIM"
      },
      "execution_count": null,
      "outputs": []
    },
    {
      "cell_type": "code",
      "source": [
        "# OR 게이트 확인\n",
        "for i in range(4):\n",
        "  y = OR(x1[i], x2[i])\n",
        "  print(f\"({x1[i]}, {x2[i]}) -> {y}\")"
      ],
      "metadata": {
        "colab": {
          "base_uri": "https://localhost:8080/"
        },
        "id": "01XfTkKVvZID",
        "outputId": "c9b2fcd3-28bb-4562-e2ee-90ea22579796"
      },
      "execution_count": null,
      "outputs": [
        {
          "output_type": "stream",
          "name": "stdout",
          "text": [
            "(0, 0) -> 0\n",
            "(1, 0) -> 1\n",
            "(0, 1) -> 1\n",
            "(1, 1) -> 1\n"
          ]
        }
      ]
    },
    {
      "cell_type": "markdown",
      "source": [
        "**결과분석**\n",
        "\n",
        "1. AND 게이트 : 두 입력이 모두 1일 때만 1이 출력되고, 그 외에는 0을 출력\n",
        "2. NAND 게이트 : 입력들 중 하나라도 `0`이면, 출력이 `1`이 됨\n",
        "3. OR 게이트 : 입력들 중 하나라도 '1'이면, 출력이 '1' 됨"
      ],
      "metadata": {
        "id": "2IYGVlgnz3FT"
      }
    },
    {
      "cell_type": "markdown",
      "source": [
        "#### 2) AND, NAND, OR 게이트 함수로 2층 퍼셉트론을 구현하고 XOR 동작을 확인"
      ],
      "metadata": {
        "id": "eZmONpbywz1r"
      }
    },
    {
      "cell_type": "code",
      "source": [
        "def XOR(x1, x2):\n",
        "  s1 = NAND(x1, x2)\n",
        "  s2 = OR(x1, x2)\n",
        "  y = AND(s1, s2)\n",
        "  return y"
      ],
      "metadata": {
        "id": "Z3BeVHelvbiy"
      },
      "execution_count": null,
      "outputs": []
    },
    {
      "cell_type": "code",
      "source": [
        "# XOR 게이트 확인\n",
        "for i in range(4):\n",
        "  y = XOR(x1[i], x2[i])\n",
        "  print(f\"({x1[i]}, {x2[i]}) -> {y}\")"
      ],
      "metadata": {
        "colab": {
          "base_uri": "https://localhost:8080/"
        },
        "id": "nKWVlrfkxCoy",
        "outputId": "80bd67c7-1d25-4718-befe-114a46d27ed3"
      },
      "execution_count": null,
      "outputs": [
        {
          "output_type": "stream",
          "name": "stdout",
          "text": [
            "(0, 0) -> 0\n",
            "(1, 0) -> 1\n",
            "(0, 1) -> 1\n",
            "(1, 1) -> 0\n"
          ]
        }
      ]
    },
    {
      "cell_type": "markdown",
      "source": [
        "**결과분석**\n",
        "\n",
        "단층 퍼셉트론으로 AND. OR, NAND 게이트를 구현해보고, 이를 활용한 다층(2층) 퍼셉트론인 XOR 게이트를 구현할 수 있다.<BR>\n",
        "XOR 게이트는 입력신호 중 한개가 1일 때만 1을 출력하기 때문에 데이터간의 경계를 하나의 직선으로는 나눌 수 없고, 곡선으로 구분해야한다.<br>\n",
        "따라서, 단층 퍼셉트론만으로는 XOR 게이트를 구현할 수 없지만, 1층에 NAND와 OR, 2층에 AND 게이트로 구성된 2층 퍼셉트론 구조로는 구현할 수 있다.<BR>\n",
        "\n",
        "-> 위 실습을 통해 단층 퍼셉트론만으로는 표현하지 못하는 것들도 여러 개의 층을 쌓은 다층 퍼셉트론으로는 구현가능하다는 것을 알 수 있음"
      ],
      "metadata": {
        "id": "GA9o9iFkxnfi"
      }
    }
  ]
}
